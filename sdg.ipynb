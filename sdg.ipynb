{
 "cells": [
  {
   "cell_type": "code",
   "execution_count": 1,
   "metadata": {},
   "outputs": [],
   "source": [
    "from src.densite_function import *\n",
    "from src.gaussian_simulation import *\n",
    "from src.estimators import *\n",
    "from src.vraisemblance import *\n",
    "import numpy as np\n",
    "from numpy.linalg import norm \n",
    "import matplotlib.pylab as plt"
   ]
  },
  {
   "cell_type": "code",
   "execution_count": 2,
   "metadata": {},
   "outputs": [],
   "source": [
    "np.random.seed(8878)\n",
    "\n",
    "theta=simulate_gaussian_vector(mu=np.array([0]*20), sigma=np.identity(20))\n",
    "\n",
    "A_optimal=np.matrix(np.identity(20))*0.5\n",
    "b_optimal=theta/2\n",
    "\n",
    "A=A_optimal+simulate_gaussian_vector(mu=np.array([0]*20), sigma=0.01*np.identity(20))\n",
    "b=b_optimal+simulate_gaussian_vector(mu=np.array([0]*20), sigma=0.01*np.identity(20))"
   ]
  },
  {
   "attachments": {},
   "cell_type": "markdown",
   "metadata": {},
   "source": [
    "On généré un n-échantillon de taille 100, de loi $\\mathcal{N}(\\theta, 2I_{20})$"
   ]
  },
  {
   "cell_type": "code",
   "execution_count": 7,
   "metadata": {},
   "outputs": [],
   "source": [
    "np.random.seed(8878)\n",
    "n=100\n",
    "i=1\n",
    "echantillon_x=np.array([])\n",
    "\n",
    "while i<=n:\n",
    "    if i==1:\n",
    "        echantillon_x=np.append(echantillon_x, simulate_gaussian_vector(mu=theta, sigma=2*np.identity(20)))\n",
    "    else:\n",
    "        echantillon_x=np.vstack((echantillon_x, simulate_gaussian_vector(mu=theta, sigma=2*np.identity(20))))\n",
    "    i+=1"
   ]
  },
  {
   "cell_type": "code",
   "execution_count": 59,
   "metadata": {},
   "outputs": [
    {
     "data": {
      "text/plain": [
       "array([[1, 2],\n",
       "       [3, 4]])"
      ]
     },
     "execution_count": 59,
     "metadata": {},
     "output_type": "execute_result"
    }
   ],
   "source": [
    "np.random.shuffle(test)\n",
    "test"
   ]
  },
  {
   "cell_type": "code",
   "execution_count": 68,
   "metadata": {},
   "outputs": [
    {
     "data": {
      "text/plain": [
       "array([[-0.06241532, -0.32519154, -0.05114187, ..., -0.48582026,\n",
       "         0.45269093,  2.0288521 ],\n",
       "       [ 0.02008314,  0.02573104, -1.49981415, ...,  1.11443018,\n",
       "        -1.81498786,  3.03911805],\n",
       "       [ 1.49160643, -1.13517359, -0.39191734, ..., -2.50582719,\n",
       "        -0.44250758,  1.76074482],\n",
       "       ...,\n",
       "       [-0.82810839,  0.34612553,  0.91338373, ...,  0.17315423,\n",
       "        -0.19413196,  1.38785861],\n",
       "       [-0.03768587,  0.28401316,  1.52972288, ..., -0.87033858,\n",
       "         0.45655378,  0.03955608],\n",
       "       [ 0.72420659, -1.3383938 , -1.75785089, ..., -0.68401601,\n",
       "        -0.06917863,  2.62969781]])"
      ]
     },
     "execution_count": 68,
     "metadata": {},
     "output_type": "execute_result"
    }
   ],
   "source": [
    "np.random.shuffle(echantillon_x)\n",
    "echantillon_x"
   ]
  },
  {
   "attachments": {},
   "cell_type": "markdown",
   "metadata": {},
   "source": [
    "Soit $l_n(\\theta)=\\frac{1}{n}\\sum_{i=1}^n \\lVert X_i - \\theta \\rVert^2 = \\frac{1}{n}\\sum_{i=1}^n l_i(\\theta) $. \n",
    "On cherche $\\hat{\\theta} \\in argmin \\; l_n(\\theta)$"
   ]
  },
  {
   "attachments": {},
   "cell_type": "markdown",
   "metadata": {},
   "source": [
    "# SDG"
   ]
  },
  {
   "attachments": {},
   "cell_type": "markdown",
   "metadata": {},
   "source": [
    "On estime le gradient de la log vraisemblance par $\\nabla_{\\theta} l_i(\\theta)= -2(X_i-\\theta)$"
   ]
  },
  {
   "cell_type": "code",
   "execution_count": 88,
   "metadata": {},
   "outputs": [],
   "source": [
    "def SDG(theta_init, learn_rate, echantillon, n_iter):\n",
    "    #Step 1: mélanger l'échantillon\n",
    "    np.random.shuffle(echantillon)\n",
    "    #Step 2: tant que le nombre d'itérations n'est pas atteint, actualiser theta\n",
    "\n",
    "    k=np.random.randint(low=0, high=len(echantillon)) #U[0,99]\n",
    "    theta=theta_init-learn_rate*(-1)*gradient_log_vraisemblance(echantillon[k], theta_init)\n",
    "            \n",
    "    for i in range(n_iter-1):\n",
    "        k=np.random.randint(low=0, high=len(echantillon))\n",
    "        theta=theta-learn_rate*(-1)*gradient_log_vraisemblance(echantillon[k], theta)\n",
    "    return theta"
   ]
  },
  {
   "cell_type": "code",
   "execution_count": 89,
   "metadata": {},
   "outputs": [],
   "source": [
    "def SDG_IAWE(theta_init, learn_rate, n_iter, A, b, echantillon, k=6):\n",
    "    #Step 1: mélanger l'échantillon\n",
    "    np.random.shuffle(echantillon)\n",
    "    #Step 2: tant que le nombre d'itérations n'est pas atteint, actualiser theta\n",
    "\n",
    "    k=np.random.randint(low=0, high=len(echantillon)) #U[0,99]\n",
    "    theta=theta_init-learn_rate*importance_sampling_gradientlogvraisemblance(k=k, theta=theta_init, A=A, b=b, x=echantillon[k])\n",
    "            \n",
    "    for i in range(n_iter-1):\n",
    "        k=np.random.randint(low=0, high=len(echantillon))\n",
    "        theta=theta-learn_rate*importance_sampling_gradientlogvraisemblance(k=k, theta=theta, A=A, b=b, x=echantillon[k])\n",
    "    return theta"
   ]
  },
  {
   "cell_type": "code",
   "execution_count": 90,
   "metadata": {},
   "outputs": [],
   "source": [
    "def SDG_SUMO(theta_init, learn_rate, n_iter, A, b, echantillon, l=6):\n",
    "    #Step 1: mélanger l'échantillon\n",
    "    np.random.shuffle(echantillon)\n",
    "    #Step 2: tant que le nombre d'itérations n'est pas atteint, actualiser theta\n",
    "\n",
    "    k=np.random.randint(low=0, high=len(echantillon)) #U[0,99]\n",
    "    theta=theta_init-learn_rate*estimateur_SUMO_gradientlogvraisemblance(k=k, theta=theta_init, A=A, b=b, x=echantillon[k], r=0.6, l=l)\n",
    "            \n",
    "    for i in range(n_iter-1):\n",
    "        k=np.random.randint(low=0, high=len(echantillon))\n",
    "        theta=theta-learn_rate*estimateur_SUMO_gradientlogvraisemblance(k=k, theta=theta, A=A, b=b, x=echantillon[k], r=0.6, l=l)\n",
    "    return theta"
   ]
  },
  {
   "cell_type": "code",
   "execution_count": 91,
   "metadata": {},
   "outputs": [],
   "source": [
    "def SDG_RR(theta_init, learn_rate, n_iter, A, b, echantillon, l=6):\n",
    "    #Step 1: mélanger l'échantillon\n",
    "    np.random.shuffle(echantillon)\n",
    "    #Step 2: tant que le nombre d'itérations n'est pas atteint, actualiser theta\n",
    "\n",
    "    k=np.random.randint(low=0, high=len(echantillon)) #U[0,99]\n",
    "    theta=theta_init-learn_rate*estimateur_ML_RR_gradientlogvraisemblance(x=echantillon[k], theta=theta_init, A=A, b=b, r=0.6, l=l)\n",
    "            \n",
    "    for i in range(n_iter-1):\n",
    "        k=np.random.randint(low=0, high=len(echantillon))\n",
    "        theta=theta-learn_rate*estimateur_ML_RR_gradientlogvraisemblance(x=echantillon[k], theta=theta, A=A, b=b, r=0.6, l=l)\n",
    "    return theta"
   ]
  },
  {
   "cell_type": "code",
   "execution_count": 93,
   "metadata": {},
   "outputs": [],
   "source": [
    "def SDG_SS(theta_init, learn_rate, n_iter, A, b, echantillon, l=6):\n",
    "    #Step 1: mélanger l'échantillon\n",
    "    np.random.shuffle(echantillon)\n",
    "    #Step 2: tant que le nombre d'itérations n'est pas atteint, actualiser theta\n",
    "\n",
    "    k=np.random.randint(low=0, high=len(echantillon)) #U[0,99]\n",
    "    theta=theta_init-learn_rate*estimateur_ML_SS_gradientlogvraisemblance(x=echantillon[k], theta=theta_init, A=A, b=b, r=0.6, l=l)\n",
    "            \n",
    "    for i in range(n_iter-1):\n",
    "        k=np.random.randint(low=0, high=len(echantillon))\n",
    "        theta=theta-learn_rate*estimateur_ML_RR_gradientlogvraisemblance(x=echantillon[k], theta=theta, A=A, b=b, r=0.6, l=l)\n",
    "    return theta"
   ]
  },
  {
   "cell_type": "code",
   "execution_count": 96,
   "metadata": {},
   "outputs": [
    {
     "name": "stdout",
     "output_type": "stream",
     "text": [
      "Vraie valeur de theta: [-0.3  -1.01 -0.57  0.53 -0.45 -1.65 -1.66  1.26 -0.5  -2.16  0.18 -0.7\n",
      " -0.77  0.53  0.12 -0.5   0.69 -0.35 -0.43  1.35]\n",
      "Estimation de theta par descente de gradient stochastique useuelle: [-0.17 -1.07 -0.88  0.14 -0.37 -1.86 -1.3   1.15 -0.69 -1.68  0.5  -0.78\n",
      " -0.57  0.7   0.03 -0.27  0.44 -0.33 -0.28  1.27]\n",
      "Estimation de theta par SDG IWAE: [ 0.02  1.49  0.68 -0.28  0.49  2.32  1.9  -1.07  0.45  2.58 -0.42  0.93\n",
      "  0.94 -0.71 -0.09  0.46 -0.47  0.86  0.75 -1.47]\n",
      "Estimation de theta par SDG RR: [-6.97 -0.1  -0.88 -3.06 -1.35  1.22  0.98 -4.38 -1.    0.99 -3.1  -1.07\n",
      " -0.6  -3.18 -2.66 -1.7  -3.26 -1.21 -1.62 -4.85]\n",
      "Estimation de theta par SDG SS: [-5.59 -0.11 -1.18 -3.5  -1.68  0.51  0.57 -4.28 -1.64  0.9  -2.91 -0.97\n",
      " -1.3  -3.51 -2.86 -1.32 -3.35 -1.72 -1.58 -4.81]\n"
     ]
    }
   ],
   "source": [
    "np.random.seed(878)\n",
    "theta_sdg=SDG(theta_init=np.array([0]*20), learn_rate=0.01, n_iter=100, echantillon=echantillon_x)\n",
    "theta_iawe=SDG_IAWE(theta_init=np.array([0]*20), learn_rate=0.01, n_iter=100, A=A, b=b, echantillon=echantillon_x, k=6)\n",
    "theta_RR=SDG_RR(theta_init=np.array([0]*20), learn_rate=0.01, n_iter=100, A=A, b=b, echantillon=echantillon_x, l=6)\n",
    "theta_SS=SDG_RR(theta_init=np.array([0]*20), learn_rate=0.01, n_iter=100, A=A, b=b, echantillon=echantillon_x, l=6)\n",
    "\n",
    "print(\"Vraie valeur de theta: {}\".format(np.around(theta, 2)))\n",
    "print(\"Estimation de theta par descente de gradient stochastique useuelle: {}\".format(np.around(theta_sdg, 2)))\n",
    "print(\"Estimation de theta par SDG IWAE: {}\".format(np.around(theta_iawe, 2)))\n",
    "print(\"Estimation de theta par SDG RR: {}\".format(np.around(theta_RR, 2)))\n",
    "print(\"Estimation de theta par SDG SS: {}\".format(np.around(theta_SS, 2)))"
   ]
  },
  {
   "cell_type": "code",
   "execution_count": null,
   "metadata": {},
   "outputs": [],
   "source": [
    "def procedure_MC_theta(M, L, x, theta, A, b):\n",
    "\n",
    "    biais_IWAE_M={}\n",
    "    biais_SUMO_M={}\n",
    "    biais_SS_M={}\n",
    "    biais_RR_M={}\n",
    "\n",
    "    var_IWAE_M={}\n",
    "    var_SUMO_M={}\n",
    "    var_SS_M={}\n",
    "    var_RR_M={}\n",
    "\n",
    "    l=1\n",
    "    while l<=L:\n",
    "        m=1\n",
    "        estimations_IWAE_M_l=np.array([])\n",
    "        estimations_SUMO_M_l=np.array([])\n",
    "        estimations_SS_M_l=np.array([])\n",
    "        estimations_RR_M_l=np.array([])\n",
    "\n",
    "\n",
    "        while m<=M:\n",
    "            gradient_log_vraisemblance_estim_IWAE=importance_sampling_gradientlogvraisemblance(k=l, theta=theta, A=A, b=b, x=x)\n",
    "            gradient_log_vraisemblance_estim_SUMO=estimateur_SUMO_gradientlogvraisemblance(theta=theta, A=A, b=b, x=x, r=0.6, l=l)\n",
    "            gradient_log_vraisemblance_estim_SS=estimateur_ML_SS_gradientlogvraisemblance(theta=theta, A=A, b=b, x=x, r=0.6, l=l)\n",
    "            gradient_log_vraisemblance_estim_RR=estimateur_ML_RR_gradientlogvraisemblance(theta=theta, A=A, b=b, x=x, r=0.6, l=l)\n",
    "\n",
    "            if m==1:\n",
    "                estimations_IWAE_M_l= np.append(estimations_IWAE_M_l, gradient_log_vraisemblance_estim_IWAE)\n",
    "                estimations_SUMO_M_l=np.append(estimations_SUMO_M_l, gradient_log_vraisemblance_estim_SUMO)\n",
    "                estimations_SS_M_l=np.append(estimations_SS_M_l, gradient_log_vraisemblance_estim_SS)\n",
    "                estimations_RR_M_l=np.append(estimations_RR_M_l, gradient_log_vraisemblance_estim_RR)\n",
    "            \n",
    "            else:\n",
    "                estimations_IWAE_M_l= np.vstack((estimations_IWAE_M_l, gradient_log_vraisemblance_estim_IWAE))\n",
    "                estimations_SUMO_M_l=np.vstack((estimations_SUMO_M_l, gradient_log_vraisemblance_estim_SUMO))\n",
    "                estimations_SS_M_l=np.vstack((estimations_SS_M_l, gradient_log_vraisemblance_estim_SS))\n",
    "                estimations_RR_M_l=np.vstack((estimations_RR_M_l, gradient_log_vraisemblance_estim_RR))\n",
    "            m+=1\n",
    "        \n",
    "        biais_IWAE_M_l=np.mean(estimations_IWAE_M_l, axis=0)-gradient_log_vraisemblance(x=x, theta=theta)\n",
    "        biais_SUMO_M_l=np.mean(estimations_SUMO_M_l, axis=0)-gradient_log_vraisemblance(x=x, theta=theta)\n",
    "        biais_SS_M_l=np.mean(estimations_SS_M_l, axis=0)-gradient_log_vraisemblance(x=x, theta=theta)\n",
    "        biais_RR_M_l=np.mean(estimations_RR_M_l, axis=0)-gradient_log_vraisemblance(x=x, theta=theta)\n",
    "\n",
    "        squared_biais_IWAE_M_l=norm(biais_IWAE_M_l)**2\n",
    "        squared_biais_SUMO_M_l=norm(biais_SUMO_M_l)**2\n",
    "        squared_biais_SS_M_l=norm(biais_SS_M_l)**2\n",
    "        squared_biais_RR_M_l=norm(biais_RR_M_l)**2\n",
    "\n",
    "        var_IWAE_M_l=np.mean(norm(estimations_IWAE_M_l-np.mean(estimations_IWAE_M_l, axis=0)))\n",
    "        var_SUMO_M_l=np.mean(norm(estimations_SUMO_M_l-np.mean(estimations_SUMO_M_l, axis=0)))\n",
    "        var_SS_M_l=np.mean(norm(estimations_SS_M_l-np.mean(estimations_SS_M_l, axis=0)))\n",
    "        var_RR_M_l=np.mean(norm(estimations_RR_M_l-np.mean(estimations_RR_M_l, axis=0)))\n",
    "\n",
    "        biais_IWAE_M[l]=squared_biais_IWAE_M_l\n",
    "        biais_SUMO_M[l]=squared_biais_SUMO_M_l\n",
    "        biais_SS_M[l]=squared_biais_SS_M_l\n",
    "        biais_RR_M[l]=squared_biais_RR_M_l\n",
    "\n",
    "        var_IWAE_M[l]=var_IWAE_M_l\n",
    "        var_SUMO_M[l]=var_SUMO_M_l\n",
    "        var_SS_M[l]=var_SS_M_l\n",
    "        var_RR_M[l]=var_RR_M_l\n",
    "\n",
    "        l+=1\n",
    "\n",
    "    return biais_IWAE_M, biais_SUMO_M, biais_SS_M, biais_RR_M, var_IWAE_M, var_SUMO_M, var_SS_M, var_RR_M"
   ]
  }
 ],
 "metadata": {
  "kernelspec": {
   "display_name": "base",
   "language": "python",
   "name": "python3"
  },
  "language_info": {
   "codemirror_mode": {
    "name": "ipython",
    "version": 3
   },
   "file_extension": ".py",
   "mimetype": "text/x-python",
   "name": "python",
   "nbconvert_exporter": "python",
   "pygments_lexer": "ipython3",
   "version": "3.9.13"
  },
  "orig_nbformat": 4
 },
 "nbformat": 4,
 "nbformat_minor": 2
}
