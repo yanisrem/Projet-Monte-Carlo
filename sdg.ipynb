{
 "cells": [
  {
   "cell_type": "code",
   "execution_count": 1,
   "metadata": {},
   "outputs": [],
   "source": [
    "from src.densite_function import *\n",
    "from src.gaussian_simulation import *\n",
    "from src.estimators2 import *\n",
    "from src.vraisemblance import *\n",
    "import numpy as np\n",
    "from numpy.linalg import norm \n",
    "import matplotlib.pylab as plt"
   ]
  },
  {
   "cell_type": "code",
   "execution_count": 2,
   "metadata": {},
   "outputs": [],
   "source": [
    "np.random.seed(8878)\n",
    "\n",
    "theta=simulate_gaussian_vector(mu=np.array([0]*20), sigma=np.identity(20))\n",
    "z=simulate_gaussian_vector(mu=theta, sigma=np.identity(20))\n",
    "x=simulate_gaussian_vector(mu=z, sigma=np.identity(20)) #on sait simuler x|z\n",
    "\n",
    "#x=simulate_gaussian_vector(mu=theta, sigma=2*np.identity(20))\n",
    "\n",
    "A_optimal=np.identity(20)*0.5\n",
    "b_optimal=theta/2\n",
    "\n",
    "A=A_optimal+simulate_gaussian_vector(mu=np.array([0]*20), sigma=0.01*np.identity(20))\n",
    "b=b_optimal+simulate_gaussian_vector(mu=np.array([0]*20), sigma=0.01*np.identity(20))"
   ]
  },
  {
   "attachments": {},
   "cell_type": "markdown",
   "metadata": {},
   "source": [
    "On généré un n-échantillon de taille 100, de loi $p_{\\theta}(\\mathbf{x}|z)=\\mathcal{N}(z, I_{20})$"
   ]
  },
  {
   "cell_type": "code",
   "execution_count": 19,
   "metadata": {},
   "outputs": [],
   "source": [
    "np.random.seed(8878)\n",
    "\n",
    "def generer_nech_gaussien(n):\n",
    "    i=1\n",
    "    echantillon_x=np.array([])\n",
    "\n",
    "    while i<=n:\n",
    "        z=simulate_gaussian_vector(mu=theta, sigma=np.identity(20))\n",
    "        if i==1:\n",
    "            echantillon_x=np.append(echantillon_x, simulate_gaussian_vector(mu=z, sigma=np.identity(20))) #on sait simuler x|z\n",
    "        else:\n",
    "            echantillon_x=np.vstack((echantillon_x, simulate_gaussian_vector(mu=z, sigma=np.identity(20))))\n",
    "        i+=1\n",
    "    return echantillon_x\n",
    "\n",
    "echantillon_x=generer_nech_gaussien(1000)"
   ]
  },
  {
   "attachments": {},
   "cell_type": "markdown",
   "metadata": {},
   "source": [
    "La log-vraisemblance de l'échantillon (avec le facteur $-\\frac{1}{n}$) est $l_n(\\theta)=\\frac{1}{n}\\sum_{i=1}^n \\lVert X_i - \\theta \\rVert^2 = \\frac{1}{n}\\sum_{i=1}^n l_i(\\theta) $. \n",
    "On cherche $\\hat{\\theta} \\in argmin \\; l_n(\\theta)$"
   ]
  },
  {
   "attachments": {},
   "cell_type": "markdown",
   "metadata": {},
   "source": [
    "# SDG"
   ]
  },
  {
   "attachments": {},
   "cell_type": "markdown",
   "metadata": {},
   "source": [
    "On estime le theta de la log vraisemblance par $\\nabla_{\\theta} l_i(\\theta)= -2(X_i-\\theta)$"
   ]
  },
  {
   "cell_type": "code",
   "execution_count": 4,
   "metadata": {},
   "outputs": [],
   "source": [
    "def SDG(theta_init, learn_rate, echantillon, n_iter):\n",
    "    #Step 1: mélanger l'échantillon\n",
    "    i=0\n",
    "    compteur=0\n",
    "    np.random.shuffle(echantillon)\n",
    "    theta=theta_init-learn_rate*(-1)*gradient_log_vraisemblance(echantillon[i], theta_init)\n",
    "\n",
    "    i+=1\n",
    "    compteur+=1\n",
    "    #Tant qu'on n'atteint pas le nombre d'itérations fixé, on actualise theta\n",
    "    while compteur<n_iter:\n",
    "        # Si on a parcouru tout l'échantillon alors que le nombre d'itérations n'est pas atteint,\n",
    "        # On remélange l'échantillon, on reparcourt l'échantillon en commençant par le début\n",
    "        # Le compteur n'est pas réinitialisé\n",
    "        if i==len(echantillon):\n",
    "           i=0\n",
    "           np.random.shuffle(echantillon)\n",
    "           theta=theta-learn_rate*(-1)*gradient_log_vraisemblance(echantillon[i], theta)\n",
    "           i+=1\n",
    "           compteur+=1\n",
    "        else:\n",
    "            theta=theta-learn_rate*(-1)*gradient_log_vraisemblance(echantillon[i], theta)\n",
    "            i+=1\n",
    "            compteur+=1\n",
    "\n",
    "    else:\n",
    "        return theta"
   ]
  },
  {
   "cell_type": "code",
   "execution_count": 5,
   "metadata": {},
   "outputs": [],
   "source": [
    "def SDG_IAWE(theta_init, learn_rate, n_iter, A, b, echantillon, k=6):\n",
    "    #Step 1: mélanger l'échantillon\n",
    "    i=0\n",
    "    compteur=0\n",
    "    np.random.shuffle(echantillon)\n",
    "    theta=theta_init-learn_rate*importance_sampling_gradientlogvraisemblance(k=k, theta=theta_init, A=A, b=b, x=echantillon[i])\n",
    "\n",
    "    i+=1\n",
    "    compteur+=1\n",
    "    #Tant qu'on n'atteint pas le nombre d'itérations fixé, on actualise theta\n",
    "    while compteur<n_iter:\n",
    "        # Si on a parcouru tout l'échantillon alors que le nombre d'itérations n'est pas atteint,\n",
    "        # On remélange l'échantillon, on reparcourt l'échantillon en commençant par le début\n",
    "        # Le compteur n'est pas réinitialisé\n",
    "        if i==len(echantillon):\n",
    "           i=0\n",
    "           np.random.shuffle(echantillon)\n",
    "           theta=theta-learn_rate*importance_sampling_gradientlogvraisemblance(k=k, theta=theta, A=A, b=b, x=echantillon[i])\n",
    "           i+=1\n",
    "           compteur+=1\n",
    "        else:\n",
    "            theta=theta-learn_rate*importance_sampling_gradientlogvraisemblance(k=k, theta=theta, A=A, b=b, x=echantillon[i])\n",
    "            i+=1\n",
    "            compteur+=1\n",
    "\n",
    "    else:\n",
    "        return theta"
   ]
  },
  {
   "cell_type": "code",
   "execution_count": 39,
   "metadata": {},
   "outputs": [],
   "source": [
    "def SDG_SUMO(theta_init, learn_rate, n_iter, A, b, echantillon, l=0):\n",
    "    #Step 1: mélanger l'échantillon\n",
    "    i=0\n",
    "    compteur=0\n",
    "    np.random.shuffle(echantillon)\n",
    "    theta=theta_init-learn_rate*estimateur_SUMO_gradientlogvraisemblance(theta=theta_init, A=A, b=b, x=echantillon[i], r=0.6, l=0)\n",
    "\n",
    "    i+=1\n",
    "    compteur+=1\n",
    "    #Tant qu'on n'atteint pas le nombre d'itérations fixé, on actualise theta\n",
    "    while compteur<n_iter:\n",
    "        # Si on a parcouru tout l'échantillon alors que le nombre d'itérations n'est pas atteint,\n",
    "        # On remélange l'échantillon, on reparcourt l'échantillon en commençant par le début\n",
    "        # Le compteur n'est pas réinitialisé\n",
    "        if i==len(echantillon):\n",
    "           i=0\n",
    "           np.random.shuffle(echantillon)\n",
    "           theta=theta-learn_rate*estimateur_SUMO_gradientlogvraisemblance(theta=theta, A=A, b=b, x=echantillon[i], r=0.6, l=l)\n",
    "           i+=1\n",
    "           compteur+=1\n",
    "        else:\n",
    "            theta=theta-learn_rate*estimateur_SUMO_gradientlogvraisemblance(theta=theta, A=A, b=b, x=echantillon[i], r=0.6, l=l)\n",
    "            i+=1\n",
    "            compteur+=1\n",
    "\n",
    "    else:\n",
    "        return theta"
   ]
  },
  {
   "cell_type": "code",
   "execution_count": 7,
   "metadata": {},
   "outputs": [],
   "source": [
    "def SDG_RR(theta_init, learn_rate, n_iter, A, b, echantillon, l=6):\n",
    "    #Step 1: mélanger l'échantillon\n",
    "    i=0\n",
    "    compteur=0\n",
    "    np.random.shuffle(echantillon)\n",
    "    theta=theta_init-learn_rate*estimateur_ML_RR_gradientlogvraisemblance(x=echantillon[i], theta=theta_init, A=A, b=b, r=0.6, l=l)\n",
    "\n",
    "    i+=1\n",
    "    compteur+=1\n",
    "    #Tant qu'on n'atteint pas le nombre d'itérations fixé, on actualise theta\n",
    "    while compteur<n_iter:\n",
    "        # Si on a parcouru tout l'échantillon alors que le nombre d'itérations n'est pas atteint,\n",
    "        # On remélange l'échantillon, on reparcourt l'échantillon en commençant par le début\n",
    "        # Le compteur n'est pas réinitialisé\n",
    "        if i==len(echantillon):\n",
    "           i=0\n",
    "           np.random.shuffle(echantillon)\n",
    "           theta=theta-learn_rate*estimateur_ML_RR_gradientlogvraisemblance(x=echantillon[i], theta=theta, A=A, b=b, r=0.6, l=l)\n",
    "           i+=1\n",
    "           compteur+=1\n",
    "        else:\n",
    "            theta=theta-learn_rate*estimateur_ML_RR_gradientlogvraisemblance(x=echantillon[i], theta=theta, A=A, b=b, r=0.6, l=l)\n",
    "            i+=1\n",
    "            compteur+=1\n",
    "\n",
    "    else:\n",
    "        return theta"
   ]
  },
  {
   "cell_type": "code",
   "execution_count": 8,
   "metadata": {},
   "outputs": [],
   "source": [
    "def SDG_SS(theta_init, learn_rate, n_iter, A, b, echantillon, l=6):\n",
    "    #Step 1: mélanger l'échantillon\n",
    "    i=0\n",
    "    compteur=0\n",
    "    np.random.shuffle(echantillon)\n",
    "    theta=theta_init-learn_rate*estimateur_ML_SS_gradientlogvraisemblance(x=echantillon[i], theta=theta_init, A=A, b=b, r=0.6, l=l)\n",
    "\n",
    "    i+=1\n",
    "    compteur+=1\n",
    "    #Tant qu'on n'atteint pas le nombre d'itérations fixé, on actualise theta\n",
    "    while compteur<n_iter:\n",
    "        # Si on a parcouru tout l'échantillon alors que le nombre d'itérations n'est pas atteint,\n",
    "        # On remélange l'échantillon, on reparcourt l'échantillon en commençant par le début\n",
    "        # Le compteur n'est pas réinitialisé\n",
    "        if i==len(echantillon):\n",
    "           i=0\n",
    "           np.random.shuffle(echantillon)\n",
    "           theta=theta-learn_rate*estimateur_ML_SS_gradientlogvraisemblance(x=echantillon[i], theta=theta, A=A, b=b, r=0.6, l=l)\n",
    "           i+=1\n",
    "           compteur+=1\n",
    "        else:\n",
    "            theta=theta-learn_rate*estimateur_ML_SS_gradientlogvraisemblance(x=echantillon[i], theta=theta, A=A, b=b, r=0.6, l=l)\n",
    "            i+=1\n",
    "            compteur+=1\n",
    "\n",
    "    else:\n",
    "        return theta"
   ]
  },
  {
   "cell_type": "code",
   "execution_count": 25,
   "metadata": {},
   "outputs": [
    {
     "name": "stdout",
     "output_type": "stream",
     "text": [
      "Vraie valeur de theta: [-0.3  -1.01 -0.57  0.53 -0.45 -1.65 -1.66  1.26 -0.5  -2.16  0.18 -0.7\n",
      " -0.77  0.53  0.12 -0.5   0.69 -0.35 -0.43  1.35]\n",
      "Estimation de theta par descente de gradient stochastique useuelle: [-0.07 -0.16 -0.08  0.14 -0.07 -0.3  -0.31  0.23 -0.08 -0.35  0.01 -0.14\n",
      " -0.12  0.1   0.05 -0.08  0.12 -0.08 -0.11  0.26]\n",
      "Estimation de theta par SDG IWAE: [ 0.01  0.08  0.06 -0.06  0.03  0.15  0.12 -0.13  0.03  0.18 -0.03  0.05\n",
      "  0.05 -0.06 -0.03  0.02 -0.06  0.04  0.03 -0.14]\n",
      "Estimation de theta par SDG SUMO: [-0.52 -1.28 -0.03 -0.22  0.48  0.43  0.67  0.   -0.09  1.09 -0.35 -0.65\n",
      "  1.24 -0.13 -0.62  1.67 -0.03  1.36  0.57  0.81]\n",
      "Estimation de theta par SDG RR: [-3.    0.45  0.29 -0.13  1.15  1.37  1.53 -0.9   0.73  1.49 -1.3   1.67\n",
      "  0.82 -0.42  0.06  1.14 -0.21  0.02  0.53 -0.6 ]\n",
      "Estimation de theta par SDG SS: [-0.92  0.26  0.07 -0.19 -0.02  0.37  0.3  -0.33  0.04  0.41  0.06  0.11\n",
      "  0.4  -0.12  0.02  0.02 -0.18 -0.2   0.11 -0.4 ]\n"
     ]
    }
   ],
   "source": [
    "np.random.seed(876)\n",
    "theta_sdg=SDG(theta_init=np.array([0]*20), learn_rate=0.001, n_iter=100, echantillon=echantillon_x)\n",
    "theta_iawe=SDG_IAWE(theta_init=np.array([0]*20), learn_rate=0.001, n_iter=100, A=A, b=b, echantillon=echantillon_x, k=6)\n",
    "theta_SUMO=SDG_SUMO(theta_init=np.array([0]*20), learn_rate=0.001, n_iter=100, A=A, b=b, echantillon=echantillon_x, l=6)\n",
    "theta_RR=SDG_RR(theta_init=np.array([0]*20), learn_rate=0.001, n_iter=100, A=A, b=b, echantillon=echantillon_x, l=1)\n",
    "theta_SS=SDG_SS(theta_init=np.array([0]*20), learn_rate=0.001, n_iter=100, A=A, b=b, echantillon=echantillon_x, l=1)\n",
    "\n",
    "print(\"Vraie valeur de theta: {}\".format(np.around(theta, 2)))\n",
    "print(\"Estimation de theta par descente de gradient stochastique useuelle: {}\".format(np.around(theta_sdg, 2)))\n",
    "print(\"Estimation de theta par SDG IWAE: {}\".format(np.around(theta_iawe, 2)))\n",
    "print(\"Estimation de theta par SDG SUMO: {}\".format(np.around(theta_SUMO, 2)))\n",
    "print(\"Estimation de theta par SDG RR: {}\".format(np.around(theta_RR, 2)))\n",
    "print(\"Estimation de theta par SDG SS: {}\".format(np.around(theta_SS, 2)))"
   ]
  },
  {
   "cell_type": "code",
   "execution_count": 10,
   "metadata": {},
   "outputs": [],
   "source": [
    "def procedure_MC_theta(M, L, theta, A, b, n):\n",
    "    biais_SDG_M={}\n",
    "    biais_IWAE_M={}\n",
    "    biais_SUMO_M={}\n",
    "    biais_SS_M={}\n",
    "    biais_RR_M={}\n",
    "\n",
    "    var_SDG_M={}\n",
    "    var_IWAE_M={}\n",
    "    var_SUMO_M={}\n",
    "    var_SS_M={}\n",
    "    var_RR_M={}\n",
    "\n",
    "    l=2\n",
    "    while l<=L:\n",
    "        m=1\n",
    "        estimations_SDG_M_l=np.array([])\n",
    "        estimations_IWAE_M_l=np.array([])\n",
    "        estimations_SUMO_M_l=np.array([])\n",
    "        estimations_SS_M_l=np.array([])\n",
    "        estimations_RR_M_l=np.array([])\n",
    "\n",
    "\n",
    "        while m<=M:\n",
    "            echantillon_x=generer_nech_gaussien(n)\n",
    "            theta_SDG=SDG(theta_init=np.array([0]*20), learn_rate=0.01, echantillon=echantillon_x, n_iter=100)\n",
    "            theta_IAWE=SDG_IAWE(theta_init=np.array([0]*20), learn_rate=0.01, n_iter=100, A=A, b=b, echantillon=echantillon_x, k=l)\n",
    "            theta_SUMO=SDG_SUMO(theta_init=np.array([0]*20), learn_rate=0.01, n_iter=100, A=A, b=b, echantillon=echantillon_x, l=l)\n",
    "            theta_RR=SDG_RR(theta_init=np.array([0]*20), learn_rate=0.01, n_iter=100, A=A, b=b, echantillon=echantillon_x, l=l)\n",
    "            theta_SS=SDG_SS(theta_init=np.array([0]*20), learn_rate=0.01, n_iter=100, A=A, b=b, echantillon=echantillon_x, l=l)\n",
    "\n",
    "            if m==1:\n",
    "                estimations_SDG_M_l=np.append(estimations_SDG_M_l, theta_SDG)\n",
    "                estimations_IWAE_M_l= np.append(estimations_IWAE_M_l, theta_IAWE)\n",
    "                estimations_SUMO_M_l=np.append(estimations_SUMO_M_l, theta_SUMO)\n",
    "                estimations_RR_M_l=np.append(estimations_RR_M_l, theta_RR)\n",
    "                estimations_SS_M_l=np.append(estimations_SS_M_l, theta_SS)\n",
    "            \n",
    "            else:\n",
    "                estimations_SDG_M_l=np.vstack((estimations_SDG_M_l, theta_SDG))\n",
    "                estimations_IWAE_M_l= np.vstack((estimations_IWAE_M_l, theta_IAWE))\n",
    "                estimations_SUMO_M_l=np.vstack((estimations_SUMO_M_l, theta_SUMO))\n",
    "                estimations_RR_M_l=np.vstack((estimations_RR_M_l, theta_RR))\n",
    "                estimations_SS_M_l=np.vstack((estimations_SS_M_l, theta_SS))\n",
    "            m+=1\n",
    "\n",
    "        biais_SDG_M_l=np.mean(estimations_SDG_M_l, axis=0)-theta\n",
    "        biais_IWAE_M_l=np.mean(estimations_IWAE_M_l, axis=0)-theta\n",
    "        biais_IWAE_M_l=np.mean(estimations_IWAE_M_l, axis=0)-theta\n",
    "        biais_SUMO_M_l=np.mean(estimations_SUMO_M_l, axis=0)-theta\n",
    "        biais_SS_M_l=np.mean(estimations_SS_M_l, axis=0)-theta\n",
    "        biais_RR_M_l=np.mean(estimations_RR_M_l, axis=0)-theta\n",
    "\n",
    "        squared_biais_SDG_M_l=norm(biais_SDG_M_l)**2\n",
    "        squared_biais_IWAE_M_l=norm(biais_IWAE_M_l)**2\n",
    "        squared_biais_SUMO_M_l=norm(biais_SUMO_M_l)**2\n",
    "        squared_biais_SS_M_l=norm(biais_SS_M_l)**2\n",
    "        squared_biais_RR_M_l=norm(biais_RR_M_l)**2\n",
    "\n",
    "        var_SDG_M_l=np.mean(norm(estimations_SDG_M_l-np.mean(estimations_IWAE_M_l, axis=0), axis=1)**2)\n",
    "        var_IWAE_M_l=np.mean(norm(estimations_IWAE_M_l-np.mean(estimations_IWAE_M_l, axis=0), axis=1)**2)\n",
    "        var_SUMO_M_l=np.mean(norm(estimations_SUMO_M_l-np.mean(estimations_SUMO_M_l, axis=0), axis=1)**2)\n",
    "        var_SS_M_l=np.mean(norm(estimations_SS_M_l-np.mean(estimations_SS_M_l, axis=0), acis=1)**2)\n",
    "        var_RR_M_l=np.mean(norm(estimations_RR_M_l-np.mean(estimations_RR_M_l, axis=0), axis=1)**2)\n",
    "        \n",
    "        biais_SDG_M[l]=squared_biais_SDG_M_l\n",
    "        biais_IWAE_M[l]=squared_biais_IWAE_M_l\n",
    "        biais_SUMO_M[l]=squared_biais_SUMO_M_l\n",
    "        biais_SS_M[l]=squared_biais_SS_M_l\n",
    "        biais_RR_M[l]=squared_biais_RR_M_l\n",
    "        \n",
    "        var_SDG_M[l]=var_SDG_M_l\n",
    "        var_IWAE_M[l]=var_IWAE_M_l\n",
    "        var_SUMO_M[l]=var_SUMO_M_l\n",
    "        var_SS_M[l]=var_SS_M_l\n",
    "        var_RR_M[l]=var_RR_M_l\n",
    "\n",
    "        l+=1\n",
    "\n",
    "    return biais_SDG_M, biais_IWAE_M, biais_SUMO_M, biais_SS_M, biais_RR_M, var_SDG_M,var_IWAE_M, var_SUMO_M, var_SS_M, var_RR_M"
   ]
  },
  {
   "cell_type": "code",
   "execution_count": 11,
   "metadata": {},
   "outputs": [],
   "source": [
    "# np.random.seed(8554)\n",
    "\n",
    "# biais_SDG_M_theta, biais_IWAE_M_theta, biais_SUMO_M_theta, biais_SS_M_theta, biais_RR_M_theta, var_SDG_M_theta, var_IWAE_M_theta, var_SUMO_M_theta, var_SS_M_theta, var_RR_M_theta = procedure_MC_theta(M=1000, \n",
    "#                                                                                                                                                                                                         L=8,\n",
    "#                                                                                                                                                                                                         theta=theta,\n",
    "#                                                                                                                                                                                                         A=A, \n",
    "#                                                                                                                                                                                                         b=b,\n",
    "#                                                                                                                                                                                                         n=100) \n",
    "                                                                                                                            "
   ]
  },
  {
   "cell_type": "code",
   "execution_count": 12,
   "metadata": {},
   "outputs": [
    {
     "ename": "NameError",
     "evalue": "name 'biais_SDG_M_theta' is not defined",
     "output_type": "error",
     "traceback": [
      "\u001b[1;31m---------------------------------------------------------------------------\u001b[0m",
      "\u001b[1;31mNameError\u001b[0m                                 Traceback (most recent call last)",
      "\u001b[1;32m~\\AppData\\Local\\Temp\\ipykernel_184120\\1847402988.py\u001b[0m in \u001b[0;36m<module>\u001b[1;34m\u001b[0m\n\u001b[1;32m----> 1\u001b[1;33m \u001b[0msorted_biais_SDG_M_theta\u001b[0m \u001b[1;33m=\u001b[0m \u001b[0msorted\u001b[0m\u001b[1;33m(\u001b[0m\u001b[0mbiais_SDG_M_theta\u001b[0m\u001b[1;33m.\u001b[0m\u001b[0mitems\u001b[0m\u001b[1;33m(\u001b[0m\u001b[1;33m)\u001b[0m\u001b[1;33m)\u001b[0m\u001b[1;33m\u001b[0m\u001b[1;33m\u001b[0m\u001b[0m\n\u001b[0m\u001b[0;32m      2\u001b[0m \u001b[0msorted_biais_IWAE_M_theta\u001b[0m \u001b[1;33m=\u001b[0m \u001b[0msorted\u001b[0m\u001b[1;33m(\u001b[0m\u001b[0mbiais_IWAE_M_theta\u001b[0m\u001b[1;33m.\u001b[0m\u001b[0mitems\u001b[0m\u001b[1;33m(\u001b[0m\u001b[1;33m)\u001b[0m\u001b[1;33m)\u001b[0m\u001b[1;33m\u001b[0m\u001b[1;33m\u001b[0m\u001b[0m\n\u001b[0;32m      3\u001b[0m \u001b[0msorted_biais_SS_M_gradient\u001b[0m \u001b[1;33m=\u001b[0m \u001b[0msorted\u001b[0m\u001b[1;33m(\u001b[0m\u001b[0mbiais_SS_M_theta\u001b[0m\u001b[1;33m.\u001b[0m\u001b[0mitems\u001b[0m\u001b[1;33m(\u001b[0m\u001b[1;33m)\u001b[0m\u001b[1;33m)\u001b[0m\u001b[1;33m\u001b[0m\u001b[1;33m\u001b[0m\u001b[0m\n\u001b[0;32m      4\u001b[0m \u001b[0msorted_biais_RR_M_gradient\u001b[0m \u001b[1;33m=\u001b[0m \u001b[0msorted\u001b[0m\u001b[1;33m(\u001b[0m\u001b[0mbiais_RR_M_theta\u001b[0m\u001b[1;33m.\u001b[0m\u001b[0mitems\u001b[0m\u001b[1;33m(\u001b[0m\u001b[1;33m)\u001b[0m\u001b[1;33m)\u001b[0m\u001b[1;33m\u001b[0m\u001b[1;33m\u001b[0m\u001b[0m\n\u001b[0;32m      5\u001b[0m \u001b[1;33m\u001b[0m\u001b[0m\n",
      "\u001b[1;31mNameError\u001b[0m: name 'biais_SDG_M_theta' is not defined"
     ]
    }
   ],
   "source": [
    "sorted_biais_SDG_M_theta = sorted(biais_SDG_M_theta.items())\n",
    "sorted_biais_IWAE_M_theta = sorted(biais_IWAE_M_theta.items())\n",
    "sorted_biais_SS_M_gradient = sorted(biais_SS_M_theta.items())\n",
    "sorted_biais_RR_M_gradient = sorted(biais_RR_M_theta.items())\n",
    "\n",
    "sorted_var_IWAE_M_gradient = sorted(var_IWAE_M_gradient.items())\n",
    "sorted_var_SUMO_M_gradient = sorted(var_SUMO_M_gradient.items())\n",
    "sorted_var_SS_M_gradient = sorted(var_SS_M_gradient.items())\n",
    "sorted_var_RR_M_gradient = sorted(var_RR_M_gradient.items())\n",
    "\n",
    "l, biais_IAWE_gradient = zip(*sorted_biais_IWAE_M_gradient)\n",
    "l, biais_SUMO_gradient = zip(*sorted_biais_SUMO_M_gradient)\n",
    "l, biais_SS_gradient = zip(*sorted_biais_SS_M_gradient)\n",
    "l, biais_RR_gradient = zip(*sorted_biais_RR_M_gradient)\n",
    "\n",
    "l, var_IAWE_gradient = zip(*sorted_var_IWAE_M_gradient) \n",
    "l, var_SUMO_gradient = zip(*sorted_var_SUMO_M_gradient) \n",
    "l, var_SS_gradient = zip(*sorted_var_SS_M_gradient) \n",
    "l, var_RR_gradient = zip(*sorted_var_RR_M_gradient) \n",
    "\n",
    "fig, axs = plt.subplots(2,1, figsize=(10, 10))\n",
    "\n",
    "axs[0].plot(l, biais_IAWE_gradient, 'b', label=\"Biais au carré de l'estimateur IWAE\", color=\"blue\")\n",
    "axs[0].plot(l, biais_SUMO_gradient, 'b', label=\"Biais au carré de l'estimateur SUMO\", color=\"red\")\n",
    "axs[0].plot(l, biais_SS_gradient, 'b', label=\"Biais au carré de l'estimateur ML-SS\", color=\"orange\")\n",
    "axs[0].plot(l, biais_RR_gradient, 'b', label=\"Biais au carré de l'estimateur ML-RR\", color=\"green\")\n",
    "\n",
    "axs[0].legend()\n",
    "\n",
    "fig.suptitle('Biais au carré et variance des estimateurs du gradient de la log-vraisemblance, en fonction du coût computationel', fontsize=16)\n",
    "\n",
    "axs[1].plot(l, var_IAWE_gradient, 'b', label=\"Variance de l'estimateur IAWE\", color=\"blue\")\n",
    "axs[1].plot(l, var_SUMO_gradient, 'b', label=\"Variance de l'estimateur SUMO\", color=\"red\")\n",
    "axs[1].plot(l, var_SS_gradient, 'b', label=\"Variance de l'estimateur ML-SS\", color=\"orange\")\n",
    "axs[1].plot(l, var_RR_gradient, 'b', label=\"Variance de l'estimateur ML-RR\", color=\"green\")\n",
    "\n",
    "\n",
    "axs[1].legend()\n",
    "\n",
    "plt.show()"
   ]
  },
  {
   "cell_type": "code",
   "execution_count": null,
   "metadata": {},
   "outputs": [
    {
     "ename": "TypeError",
     "evalue": "_norm_dispatcher() got an unexpected keyword argument 'acis'",
     "output_type": "error",
     "traceback": [
      "\u001b[1;31m---------------------------------------------------------------------------\u001b[0m",
      "\u001b[1;31mTypeError\u001b[0m                                 Traceback (most recent call last)",
      "\u001b[1;32m~\\AppData\\Local\\Temp\\ipykernel_179648\\3954564948.py\u001b[0m in \u001b[0;36m<module>\u001b[1;34m\u001b[0m\n\u001b[0;32m     48\u001b[0m \u001b[0mvar_IWAE_M_l\u001b[0m\u001b[1;33m=\u001b[0m\u001b[0mnp\u001b[0m\u001b[1;33m.\u001b[0m\u001b[0mmean\u001b[0m\u001b[1;33m(\u001b[0m\u001b[0mnorm\u001b[0m\u001b[1;33m(\u001b[0m\u001b[0mestimations_IWAE_M_l\u001b[0m\u001b[1;33m-\u001b[0m\u001b[0mnp\u001b[0m\u001b[1;33m.\u001b[0m\u001b[0mmean\u001b[0m\u001b[1;33m(\u001b[0m\u001b[0mestimations_IWAE_M_l\u001b[0m\u001b[1;33m,\u001b[0m \u001b[0maxis\u001b[0m\u001b[1;33m=\u001b[0m\u001b[1;36m0\u001b[0m\u001b[1;33m)\u001b[0m\u001b[1;33m,\u001b[0m \u001b[0maxis\u001b[0m\u001b[1;33m=\u001b[0m\u001b[1;36m1\u001b[0m\u001b[1;33m)\u001b[0m\u001b[1;33m**\u001b[0m\u001b[1;36m2\u001b[0m\u001b[1;33m)\u001b[0m\u001b[1;33m\u001b[0m\u001b[1;33m\u001b[0m\u001b[0m\n\u001b[0;32m     49\u001b[0m \u001b[0mvar_SUMO_M_l\u001b[0m\u001b[1;33m=\u001b[0m\u001b[0mnp\u001b[0m\u001b[1;33m.\u001b[0m\u001b[0mmean\u001b[0m\u001b[1;33m(\u001b[0m\u001b[0mnorm\u001b[0m\u001b[1;33m(\u001b[0m\u001b[0mestimations_SUMO_M_l\u001b[0m\u001b[1;33m-\u001b[0m\u001b[0mnp\u001b[0m\u001b[1;33m.\u001b[0m\u001b[0mmean\u001b[0m\u001b[1;33m(\u001b[0m\u001b[0mestimations_SUMO_M_l\u001b[0m\u001b[1;33m,\u001b[0m \u001b[0maxis\u001b[0m\u001b[1;33m=\u001b[0m\u001b[1;36m0\u001b[0m\u001b[1;33m)\u001b[0m\u001b[1;33m,\u001b[0m \u001b[0maxis\u001b[0m\u001b[1;33m=\u001b[0m\u001b[1;36m1\u001b[0m\u001b[1;33m)\u001b[0m\u001b[1;33m**\u001b[0m\u001b[1;36m2\u001b[0m\u001b[1;33m)\u001b[0m\u001b[1;33m\u001b[0m\u001b[1;33m\u001b[0m\u001b[0m\n\u001b[1;32m---> 50\u001b[1;33m \u001b[0mvar_SS_M_l\u001b[0m\u001b[1;33m=\u001b[0m\u001b[0mnp\u001b[0m\u001b[1;33m.\u001b[0m\u001b[0mmean\u001b[0m\u001b[1;33m(\u001b[0m\u001b[0mnorm\u001b[0m\u001b[1;33m(\u001b[0m\u001b[0mestimations_SS_M_l\u001b[0m\u001b[1;33m-\u001b[0m\u001b[0mnp\u001b[0m\u001b[1;33m.\u001b[0m\u001b[0mmean\u001b[0m\u001b[1;33m(\u001b[0m\u001b[0mestimations_SS_M_l\u001b[0m\u001b[1;33m,\u001b[0m \u001b[0maxis\u001b[0m\u001b[1;33m=\u001b[0m\u001b[1;36m0\u001b[0m\u001b[1;33m)\u001b[0m\u001b[1;33m,\u001b[0m \u001b[0macis\u001b[0m\u001b[1;33m=\u001b[0m\u001b[1;36m1\u001b[0m\u001b[1;33m)\u001b[0m\u001b[1;33m**\u001b[0m\u001b[1;36m2\u001b[0m\u001b[1;33m)\u001b[0m\u001b[1;33m\u001b[0m\u001b[1;33m\u001b[0m\u001b[0m\n\u001b[0m\u001b[0;32m     51\u001b[0m \u001b[0mvar_RR_M_l\u001b[0m\u001b[1;33m=\u001b[0m\u001b[0mnp\u001b[0m\u001b[1;33m.\u001b[0m\u001b[0mmean\u001b[0m\u001b[1;33m(\u001b[0m\u001b[0mnorm\u001b[0m\u001b[1;33m(\u001b[0m\u001b[0mestimations_RR_M_l\u001b[0m\u001b[1;33m-\u001b[0m\u001b[0mnp\u001b[0m\u001b[1;33m.\u001b[0m\u001b[0mmean\u001b[0m\u001b[1;33m(\u001b[0m\u001b[0mestimations_RR_M_l\u001b[0m\u001b[1;33m,\u001b[0m \u001b[0maxis\u001b[0m\u001b[1;33m=\u001b[0m\u001b[1;36m0\u001b[0m\u001b[1;33m)\u001b[0m\u001b[1;33m,\u001b[0m \u001b[0maxis\u001b[0m\u001b[1;33m=\u001b[0m\u001b[1;36m1\u001b[0m\u001b[1;33m)\u001b[0m\u001b[1;33m**\u001b[0m\u001b[1;36m2\u001b[0m\u001b[1;33m)\u001b[0m\u001b[1;33m\u001b[0m\u001b[1;33m\u001b[0m\u001b[0m\n",
      "\u001b[1;32m<__array_function__ internals>\u001b[0m in \u001b[0;36mnorm\u001b[1;34m(*args, **kwargs)\u001b[0m\n",
      "\u001b[1;31mTypeError\u001b[0m: _norm_dispatcher() got an unexpected keyword argument 'acis'"
     ]
    }
   ],
   "source": [
    "estimations_SDG_M_l=np.array([])\n",
    "estimations_IWAE_M_l=np.array([])\n",
    "estimations_SUMO_M_l=np.array([])\n",
    "estimations_SS_M_l=np.array([])\n",
    "estimations_RR_M_l=np.array([])\n",
    "\n",
    "m=1\n",
    "M=1000\n",
    "n=100\n",
    "\n",
    "while m<=M:\n",
    "    echantillon_x=generer_nech_gaussien(n)\n",
    "    theta_SDG=SDG(theta_init=np.array([0]*20), learn_rate=0.01, echantillon=echantillon_x, n_iter=100)\n",
    "    theta_IAWE=SDG_IAWE(theta_init=np.array([0]*20), learn_rate=0.01, n_iter=100, A=A, b=b, echantillon=echantillon_x, k=3)\n",
    "    theta_SUMO=SDG_SUMO(theta_init=np.array([0]*20), learn_rate=0.01, n_iter=100, A=A, b=b, echantillon=echantillon_x, l=3)\n",
    "    theta_RR=SDG_RR(theta_init=np.array([0]*20), learn_rate=0.01, n_iter=100, A=A, b=b, echantillon=echantillon_x, l=3)\n",
    "    theta_SS=SDG_SS(theta_init=np.array([0]*20), learn_rate=0.01, n_iter=100, A=A, b=b, echantillon=echantillon_x, l=3)\n",
    "\n",
    "    if m==1:\n",
    "        estimations_SDG_M_l=np.append(estimations_SDG_M_l, theta_SDG)\n",
    "        estimations_IWAE_M_l= np.append(estimations_IWAE_M_l, theta_IAWE)\n",
    "        estimations_SUMO_M_l=np.append(estimations_SUMO_M_l, theta_SUMO)\n",
    "        estimations_RR_M_l=np.append(estimations_RR_M_l, theta_RR)\n",
    "        estimations_SS_M_l=np.append(estimations_SS_M_l, theta_SS)\n",
    "            \n",
    "    else:\n",
    "        estimations_SDG_M_l=np.vstack((estimations_SDG_M_l, theta_SDG))\n",
    "        estimations_IWAE_M_l= np.vstack((estimations_IWAE_M_l, theta_IAWE))\n",
    "        estimations_SUMO_M_l=np.vstack((estimations_SUMO_M_l, theta_SUMO))\n",
    "        estimations_RR_M_l=np.vstack((estimations_RR_M_l, theta_RR))\n",
    "        estimations_SS_M_l=np.vstack((estimations_SS_M_l, theta_SS))\n",
    "    m+=1\n",
    "\n",
    "biais_SDG_M_l=np.mean(estimations_SDG_M_l, axis=0)-theta\n",
    "biais_IWAE_M_l=np.mean(estimations_IWAE_M_l, axis=0)-theta\n",
    "biais_IWAE_M_l=np.mean(estimations_IWAE_M_l, axis=0)-theta\n",
    "biais_SUMO_M_l=np.mean(estimations_SUMO_M_l, axis=0)-theta\n",
    "biais_SS_M_l=np.mean(estimations_SS_M_l, axis=0)-theta\n",
    "biais_RR_M_l=np.mean(estimations_RR_M_l, axis=0)-theta\n",
    "\n",
    "squared_biais_SDG_M_l=norm(biais_SDG_M_l)**2\n",
    "squared_biais_IWAE_M_l=norm(biais_IWAE_M_l)**2\n",
    "squared_biais_SUMO_M_l=norm(biais_SUMO_M_l)**2\n",
    "squared_biais_SS_M_l=norm(biais_SS_M_l)**2\n",
    "squared_biais_RR_M_l=norm(biais_RR_M_l)**2\n",
    "\n",
    "var_SDG_M_l=np.mean(norm(estimations_SDG_M_l-np.mean(estimations_IWAE_M_l, axis=0), axis=1)**2)\n",
    "var_IWAE_M_l=np.mean(norm(estimations_IWAE_M_l-np.mean(estimations_IWAE_M_l, axis=0), axis=1)**2)\n",
    "var_SUMO_M_l=np.mean(norm(estimations_SUMO_M_l-np.mean(estimations_SUMO_M_l, axis=0), axis=1)**2)\n",
    "var_SS_M_l=np.mean(norm(estimations_SS_M_l-np.mean(estimations_SS_M_l, axis=0), axis=1)**2)\n",
    "var_RR_M_l=np.mean(norm(estimations_RR_M_l-np.mean(estimations_RR_M_l, axis=0), axis=1)**2)"
   ]
  },
  {
   "cell_type": "code",
   "execution_count": null,
   "metadata": {},
   "outputs": [
    {
     "data": {
      "text/plain": [
       "96.71430856920539"
      ]
     },
     "execution_count": 36,
     "metadata": {},
     "output_type": "execute_result"
    }
   ],
   "source": [
    "var_SDG_M_l"
   ]
  },
  {
   "cell_type": "code",
   "execution_count": null,
   "metadata": {},
   "outputs": [
    {
     "data": {
      "text/plain": [
       "0.7846978280276523"
      ]
     },
     "execution_count": 37,
     "metadata": {},
     "output_type": "execute_result"
    }
   ],
   "source": [
    "var_IWAE_M_l"
   ]
  },
  {
   "cell_type": "code",
   "execution_count": null,
   "metadata": {},
   "outputs": [
    {
     "data": {
      "text/plain": [
       "7.006007094800772"
      ]
     },
     "execution_count": 38,
     "metadata": {},
     "output_type": "execute_result"
    }
   ],
   "source": [
    "var_SUMO_M_l"
   ]
  },
  {
   "cell_type": "code",
   "execution_count": null,
   "metadata": {},
   "outputs": [
    {
     "data": {
      "text/plain": [
       "11.955258074079461"
      ]
     },
     "execution_count": 39,
     "metadata": {},
     "output_type": "execute_result"
    }
   ],
   "source": [
    "var_SS_M_l"
   ]
  },
  {
   "cell_type": "code",
   "execution_count": null,
   "metadata": {},
   "outputs": [
    {
     "data": {
      "text/plain": [
       "0.31892409802688737"
      ]
     },
     "execution_count": 40,
     "metadata": {},
     "output_type": "execute_result"
    }
   ],
   "source": [
    "squared_biais_SDG_M_l"
   ]
  },
  {
   "cell_type": "code",
   "execution_count": null,
   "metadata": {},
   "outputs": [
    {
     "data": {
      "text/plain": [
       "107.62803455070205"
      ]
     },
     "execution_count": 41,
     "metadata": {},
     "output_type": "execute_result"
    }
   ],
   "source": [
    "squared_biais_IWAE_M_l"
   ]
  },
  {
   "cell_type": "code",
   "execution_count": null,
   "metadata": {},
   "outputs": [
    {
     "data": {
      "text/plain": [
       "285.88914190502953"
      ]
     },
     "execution_count": 42,
     "metadata": {},
     "output_type": "execute_result"
    }
   ],
   "source": [
    "squared_biais_SUMO_M_l"
   ]
  },
  {
   "cell_type": "code",
   "execution_count": null,
   "metadata": {},
   "outputs": [
    {
     "data": {
      "text/plain": [
       "92.91956607763443"
      ]
     },
     "execution_count": 43,
     "metadata": {},
     "output_type": "execute_result"
    }
   ],
   "source": [
    "squared_biais_SS_M_l"
   ]
  },
  {
   "cell_type": "code",
   "execution_count": null,
   "metadata": {},
   "outputs": [
    {
     "data": {
      "text/plain": [
       "214.1572221985394"
      ]
     },
     "execution_count": 44,
     "metadata": {},
     "output_type": "execute_result"
    }
   ],
   "source": [
    "squared_biais_RR_M_l"
   ]
  }
 ],
 "metadata": {
  "kernelspec": {
   "display_name": "base",
   "language": "python",
   "name": "python3"
  },
  "language_info": {
   "codemirror_mode": {
    "name": "ipython",
    "version": 3
   },
   "file_extension": ".py",
   "mimetype": "text/x-python",
   "name": "python",
   "nbconvert_exporter": "python",
   "pygments_lexer": "ipython3",
   "version": "3.9.13"
  },
  "orig_nbformat": 4
 },
 "nbformat": 4,
 "nbformat_minor": 2
}
