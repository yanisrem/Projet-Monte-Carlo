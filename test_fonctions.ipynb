{
 "cells": [
  {
   "cell_type": "code",
   "execution_count": 1,
   "metadata": {},
   "outputs": [],
   "source": [
    "from src.densite_function import *\n",
    "from src.gaussian_simulation import *\n",
    "from src.IWAE_estimation import *\n",
    "from src.vraisemblance import *\n",
    "import numpy as np"
   ]
  },
  {
   "cell_type": "code",
   "execution_count": 2,
   "metadata": {},
   "outputs": [
    {
     "name": "stdout",
     "output_type": "stream",
     "text": [
      "[-1.0856306   0.99734545  0.2829785  -1.50629471 -0.57860025  1.65143654\n",
      " -2.42667924 -0.42891263  1.26593626 -0.8667404  -0.67888615 -0.09470897\n",
      "  1.49138963 -0.638902   -0.44398196 -0.43435128  2.20593008  2.18678609\n",
      "  1.0040539   0.3861864 ]\n",
      "[ 0.73736858  1.49073203 -0.93583387  1.17582904 -1.25388067 -0.6377515\n",
      "  0.9071052  -1.4286807  -0.14006872 -0.8617549  -0.25561937 -2.79858911\n",
      " -1.7715331  -0.69987723  0.92746243 -0.17363568  0.00284592  0.68822271\n",
      " -0.87953634  0.28362732]\n"
     ]
    }
   ],
   "source": [
    "np.random.seed(123)\n",
    "x=simulate_gaussian_vector(mu=np.zeros(20), sigma=np.identity(20))\n",
    "z=simulate_gaussian_vector(mu=np.zeros(20), sigma=np.identity(20))\n",
    "print(x)\n",
    "print(z)"
   ]
  },
  {
   "cell_type": "code",
   "execution_count": 3,
   "metadata": {},
   "outputs": [],
   "source": [
    "np.random.seed(111)\n",
    "\n",
    "theta=np.random.rand(1,20)[0]\n",
    "A=np.matrix(np.identity(20))*0.5\n",
    "b=theta/2"
   ]
  },
  {
   "cell_type": "code",
   "execution_count": 4,
   "metadata": {},
   "outputs": [
    {
     "data": {
      "text/plain": [
       "2.120567338028883e-15"
      ]
     },
     "execution_count": 4,
     "metadata": {},
     "output_type": "execute_result"
    }
   ],
   "source": [
    "densite_Z(z, theta)"
   ]
  },
  {
   "cell_type": "code",
   "execution_count": 5,
   "metadata": {},
   "outputs": [
    {
     "data": {
      "text/plain": [
       "2.430506698810121e-22"
      ]
     },
     "execution_count": 5,
     "metadata": {},
     "output_type": "execute_result"
    }
   ],
   "source": [
    "densite_X_sachant_Z(x,z)"
   ]
  },
  {
   "cell_type": "code",
   "execution_count": 6,
   "metadata": {},
   "outputs": [
    {
     "data": {
      "text/plain": [
       "8.244038836589708e-16"
      ]
     },
     "execution_count": 6,
     "metadata": {},
     "output_type": "execute_result"
    }
   ],
   "source": [
    "densite_X(x, theta)"
   ]
  },
  {
   "cell_type": "code",
   "execution_count": 7,
   "metadata": {},
   "outputs": [
    {
     "data": {
      "text/plain": [
       "6.251854488459944e-22"
      ]
     },
     "execution_count": 7,
     "metadata": {},
     "output_type": "execute_result"
    }
   ],
   "source": [
    "densite_Z_sachant_X(z,x,theta)"
   ]
  },
  {
   "cell_type": "code",
   "execution_count": 8,
   "metadata": {},
   "outputs": [
    {
     "data": {
      "text/plain": [
       "5.154053120357146e-37"
      ]
     },
     "execution_count": 8,
     "metadata": {},
     "output_type": "execute_result"
    }
   ],
   "source": [
    "densite_XZ(x,z,theta)"
   ]
  },
  {
   "cell_type": "code",
   "execution_count": 9,
   "metadata": {},
   "outputs": [
    {
     "data": {
      "text/plain": [
       "4.0248027230444837e-19"
      ]
     },
     "execution_count": 9,
     "metadata": {},
     "output_type": "execute_result"
    }
   ],
   "source": [
    "densite_q(A,b,z,x)"
   ]
  },
  {
   "cell_type": "code",
   "execution_count": 10,
   "metadata": {},
   "outputs": [
    {
     "data": {
      "text/plain": [
       "1.280572856614066e-18"
      ]
     },
     "execution_count": 10,
     "metadata": {},
     "output_type": "execute_result"
    }
   ],
   "source": [
    "w(z, x, theta, A,b)"
   ]
  },
  {
   "cell_type": "code",
   "execution_count": 11,
   "metadata": {},
   "outputs": [
    {
     "data": {
      "text/plain": [
       "-34.76741212171475"
      ]
     },
     "execution_count": 11,
     "metadata": {},
     "output_type": "execute_result"
    }
   ],
   "source": [
    "np.random.seed(111)\n",
    "importance_sampling_logvraisemblance(k=100, theta=theta, A=A, b=b, x=x)"
   ]
  },
  {
   "cell_type": "code",
   "execution_count": 12,
   "metadata": {},
   "outputs": [
    {
     "data": {
      "text/plain": [
       "-34.73187111399609"
      ]
     },
     "execution_count": 12,
     "metadata": {},
     "output_type": "execute_result"
    }
   ],
   "source": [
    "log_vraisemblance(x, theta)"
   ]
  },
  {
   "cell_type": "code",
   "execution_count": 15,
   "metadata": {},
   "outputs": [
    {
     "data": {
      "text/plain": [
       "array([-1.80813335,  0.88210167, -0.16302855, -2.42343559, -0.93071812,\n",
       "        1.5998997 , -2.6083175 , -0.90431879,  1.09401082, -1.28266501,\n",
       "       -1.77809845, -0.35403893,  1.50183944, -1.39353601, -1.13444914,\n",
       "       -0.7546539 ,  1.85276465,  2.20283571,  0.99053918, -0.54802857])"
      ]
     },
     "execution_count": 15,
     "metadata": {},
     "output_type": "execute_result"
    }
   ],
   "source": [
    "np.random.seed(589)\n",
    "importance_sampling_gradientlogvraisemblance(k=500, theta=theta, A=A, b=b, x=x)"
   ]
  },
  {
   "cell_type": "code",
   "execution_count": 16,
   "metadata": {},
   "outputs": [
    {
     "data": {
      "text/plain": [
       "array([-3.39560156,  1.65655138, -0.30616104, -4.55111437, -1.74785111,\n",
       "        3.00454716, -4.89831514, -1.69827424,  2.05450823, -2.40879319,\n",
       "       -3.33919723, -0.66487085,  2.82039393, -2.61700447, -2.13044976,\n",
       "       -1.41720961,  3.47941735,  4.13683668,  1.86019267, -1.02917556])"
      ]
     },
     "execution_count": 16,
     "metadata": {},
     "output_type": "execute_result"
    }
   ],
   "source": [
    "gradient_log_vraisemblance(x, theta)"
   ]
  }
 ],
 "metadata": {
  "kernelspec": {
   "display_name": "base",
   "language": "python",
   "name": "python3"
  },
  "language_info": {
   "codemirror_mode": {
    "name": "ipython",
    "version": 3
   },
   "file_extension": ".py",
   "mimetype": "text/x-python",
   "name": "python",
   "nbconvert_exporter": "python",
   "pygments_lexer": "ipython3",
   "version": "3.9.13"
  },
  "orig_nbformat": 4
 },
 "nbformat": 4,
 "nbformat_minor": 2
}
