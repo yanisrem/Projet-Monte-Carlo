{
 "cells": [
  {
   "attachments": {},
   "cell_type": "markdown",
   "metadata": {},
   "source": [
    "A faire:\n",
    "* Implémenter l'estimateur IWAE de la log-vraisemblance et du gradient: V\n",
    "* Implémenter l'estimateur RR de la log-vraisemblance et du gradient\n",
    "* Implémenter l'estimateur SS de la log-vraisemblance et du gradient\n",
    "* Comparer les trois estimateurs en termes de biais et variance (estimés par MC), en fonction de la taille d'échantillon\n",
    "* Implémenter une descente du gradient en utilisant les trois estimateurs, comparer les résultats\n",
    "* Expliquer l'idée de l'équation (7)"
   ]
  }
 ],
 "metadata": {
  "language_info": {
   "name": "python"
  },
  "orig_nbformat": 4
 },
 "nbformat": 4,
 "nbformat_minor": 2
}
