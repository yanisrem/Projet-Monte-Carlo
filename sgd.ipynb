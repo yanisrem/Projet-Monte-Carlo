{
 "cells": [
  {
   "cell_type": "code",
   "execution_count": 6,
   "metadata": {},
   "outputs": [],
   "source": [
    "from src.gaussian_simulation import *\n",
    "from src.estimators import *\n",
    "from src.sgd import *\n",
    "import numpy as np\n",
    "from numpy.linalg import norm \n",
    "import matplotlib.pylab as plt"
   ]
  },
  {
   "attachments": {},
   "cell_type": "markdown",
   "metadata": {},
   "source": [
    "On reprend le cadre précédent. On génére un n-échantillon de taille 1024, de loi $p_{\\theta}(\\mathbf{x}|z)=\\mathcal{N}(z, I_{20})$. Pour ce faire, on simule préalablement un échantillon de loi $p_{\\theta}(z)$."
   ]
  },
  {
   "cell_type": "code",
   "execution_count": 7,
   "metadata": {},
   "outputs": [
    {
     "name": "stdout",
     "output_type": "stream",
     "text": [
      "Vraie valeur de theta: [-1.09  1.    0.28 -1.51 -0.58  1.65 -2.43 -0.43  1.27 -0.87 -0.68 -0.09\n",
      "  1.49 -0.64 -0.44 -0.43  2.21  2.19  1.    0.39]\n"
     ]
    }
   ],
   "source": [
    "np.random.seed(123)\n",
    "\n",
    "theta=simulate_gaussian_vector(mu=np.array([0]*20), sigma=np.identity(20))\n",
    "A=np.identity(20)*0.5\n",
    "b=theta/2\n",
    "echantillon_x=generer_nech_gaussien_x_sachant_z(n=1024, mu_z=theta, sigma_z=np.identity(20),sigma_x=np.identity(20))\n",
    "print(\"Vraie valeur de theta: {}\".format(np.around(theta, 2)))"
   ]
  },
  {
   "attachments": {},
   "cell_type": "markdown",
   "metadata": {},
   "source": [
    "La log-vraisemblance de l'échantillon (avec le facteur $-\\frac{1}{n}$) est $l_n(\\theta)=\\frac{1}{n}\\sum_{i=1}^n \\lVert X_i - \\theta \\rVert^2 = \\frac{1}{n}\\sum_{i=1}^n l_i(\\theta) $. \n",
    "On cherche $\\hat{\\theta} \\in argmin \\; l_n(\\theta)$"
   ]
  },
  {
   "attachments": {},
   "cell_type": "markdown",
   "metadata": {},
   "source": [
    "# Une première estimation de $\\theta$"
   ]
  },
  {
   "attachments": {},
   "cell_type": "markdown",
   "metadata": {},
   "source": [
    "On utilise les estimateurs du gradients de la log-vraisemblance pour estimer $\\theta$ à l'aide de la descente de gradient stochastique. On fixe les paramètres de coût computationnel au mimimum pour faciliter la comparaison avec l'estimateur de $\\theta$ par SGD usuelle ($k=6$ pour l'estimateur IAWE et à $l=0$ pour les autres). Dans la descente de gradient stochastique usuelle, on estime le gradient de la log vraisemblance par $\\nabla_{\\theta} l_i(\\theta)= -2(X_i-\\theta)$. Les hyper-paramètres sont fixés de la façon suivante:\n",
    "* Nombre d'itérations: 100\n",
    "* Learning rate: 0,001\n",
    "* Comme $\\theta$ est proche de $0_{\\mathbb{R}^{20}}$, on fixe $\\theta_0 \\sim \\mathcal{U}[-5,5[^{20}$."
   ]
  },
  {
   "cell_type": "code",
   "execution_count": 8,
   "metadata": {},
   "outputs": [
    {
     "ename": "KeyboardInterrupt",
     "evalue": "",
     "output_type": "error",
     "traceback": [
      "\u001b[1;31m---------------------------------------------------------------------------\u001b[0m",
      "\u001b[1;31mKeyboardInterrupt\u001b[0m                         Traceback (most recent call last)",
      "\u001b[1;32m~\\AppData\\Local\\Temp\\ipykernel_49768\\1562106206.py\u001b[0m in \u001b[0;36m<module>\u001b[1;34m\u001b[0m\n\u001b[0;32m      2\u001b[0m \u001b[0mtheta_SGD\u001b[0m\u001b[1;33m=\u001b[0m\u001b[0mSGD\u001b[0m\u001b[1;33m(\u001b[0m\u001b[0mtheta_init\u001b[0m\u001b[1;33m=\u001b[0m\u001b[0mnp\u001b[0m\u001b[1;33m.\u001b[0m\u001b[0mrandom\u001b[0m\u001b[1;33m.\u001b[0m\u001b[0muniform\u001b[0m\u001b[1;33m(\u001b[0m\u001b[0mlow\u001b[0m\u001b[1;33m=\u001b[0m\u001b[1;33m-\u001b[0m\u001b[1;36m5\u001b[0m\u001b[1;33m,\u001b[0m \u001b[0mhigh\u001b[0m\u001b[1;33m=\u001b[0m\u001b[1;36m5\u001b[0m\u001b[1;33m,\u001b[0m \u001b[0msize\u001b[0m\u001b[1;33m=\u001b[0m\u001b[1;36m20\u001b[0m\u001b[1;33m)\u001b[0m\u001b[1;33m,\u001b[0m \u001b[0mlearn_rate\u001b[0m\u001b[1;33m=\u001b[0m\u001b[1;36m0.01\u001b[0m\u001b[1;33m,\u001b[0m \u001b[0mn_iter\u001b[0m\u001b[1;33m=\u001b[0m\u001b[1;36m512\u001b[0m\u001b[1;33m,\u001b[0m \u001b[0mechantillon\u001b[0m\u001b[1;33m=\u001b[0m\u001b[0mechantillon_x\u001b[0m\u001b[1;33m)\u001b[0m\u001b[1;33m\u001b[0m\u001b[1;33m\u001b[0m\u001b[0m\n\u001b[0;32m      3\u001b[0m \u001b[0mtheta_iawe\u001b[0m\u001b[1;33m=\u001b[0m\u001b[0mSGD_IAWE\u001b[0m\u001b[1;33m(\u001b[0m\u001b[0mtheta_init\u001b[0m\u001b[1;33m=\u001b[0m\u001b[0mnp\u001b[0m\u001b[1;33m.\u001b[0m\u001b[0mrandom\u001b[0m\u001b[1;33m.\u001b[0m\u001b[0muniform\u001b[0m\u001b[1;33m(\u001b[0m\u001b[0mlow\u001b[0m\u001b[1;33m=\u001b[0m\u001b[1;33m-\u001b[0m\u001b[1;36m5\u001b[0m\u001b[1;33m,\u001b[0m \u001b[0mhigh\u001b[0m\u001b[1;33m=\u001b[0m\u001b[1;36m5\u001b[0m\u001b[1;33m,\u001b[0m \u001b[0msize\u001b[0m\u001b[1;33m=\u001b[0m\u001b[1;36m20\u001b[0m\u001b[1;33m)\u001b[0m\u001b[1;33m,\u001b[0m \u001b[0mlearn_rate\u001b[0m\u001b[1;33m=\u001b[0m\u001b[1;36m0.01\u001b[0m\u001b[1;33m,\u001b[0m \u001b[0mn_iter\u001b[0m\u001b[1;33m=\u001b[0m\u001b[1;36m512\u001b[0m\u001b[1;33m,\u001b[0m \u001b[0mA\u001b[0m\u001b[1;33m=\u001b[0m\u001b[0mA\u001b[0m\u001b[1;33m,\u001b[0m \u001b[0mb\u001b[0m\u001b[1;33m=\u001b[0m\u001b[0mb\u001b[0m\u001b[1;33m,\u001b[0m \u001b[0mechantillon\u001b[0m\u001b[1;33m=\u001b[0m\u001b[0mechantillon_x\u001b[0m\u001b[1;33m,\u001b[0m \u001b[0mk\u001b[0m\u001b[1;33m=\u001b[0m\u001b[1;36m6\u001b[0m\u001b[1;33m*\u001b[0m\u001b[1;36m2\u001b[0m\u001b[1;33m**\u001b[0m\u001b[1;36m4\u001b[0m\u001b[1;33m)\u001b[0m\u001b[1;33m\u001b[0m\u001b[1;33m\u001b[0m\u001b[0m\n\u001b[1;32m----> 4\u001b[1;33m \u001b[0mtheta_SUMO\u001b[0m\u001b[1;33m=\u001b[0m\u001b[0mSGD_SUMO\u001b[0m\u001b[1;33m(\u001b[0m\u001b[0mtheta_init\u001b[0m\u001b[1;33m=\u001b[0m\u001b[0mnp\u001b[0m\u001b[1;33m.\u001b[0m\u001b[0mrandom\u001b[0m\u001b[1;33m.\u001b[0m\u001b[0muniform\u001b[0m\u001b[1;33m(\u001b[0m\u001b[0mlow\u001b[0m\u001b[1;33m=\u001b[0m\u001b[1;33m-\u001b[0m\u001b[1;36m5\u001b[0m\u001b[1;33m,\u001b[0m \u001b[0mhigh\u001b[0m\u001b[1;33m=\u001b[0m\u001b[1;36m5\u001b[0m\u001b[1;33m,\u001b[0m \u001b[0msize\u001b[0m\u001b[1;33m=\u001b[0m\u001b[1;36m20\u001b[0m\u001b[1;33m)\u001b[0m\u001b[1;33m,\u001b[0m \u001b[0mlearn_rate\u001b[0m\u001b[1;33m=\u001b[0m\u001b[1;36m0.001\u001b[0m\u001b[1;33m,\u001b[0m \u001b[0mn_iter\u001b[0m\u001b[1;33m=\u001b[0m\u001b[1;36m512\u001b[0m\u001b[1;33m,\u001b[0m \u001b[0mA\u001b[0m\u001b[1;33m=\u001b[0m\u001b[0mA\u001b[0m\u001b[1;33m,\u001b[0m \u001b[0mb\u001b[0m\u001b[1;33m=\u001b[0m\u001b[0mb\u001b[0m\u001b[1;33m,\u001b[0m \u001b[0mechantillon\u001b[0m\u001b[1;33m=\u001b[0m\u001b[0mechantillon_x\u001b[0m\u001b[1;33m,\u001b[0m \u001b[0ml\u001b[0m\u001b[1;33m=\u001b[0m\u001b[1;36m94\u001b[0m\u001b[1;33m)\u001b[0m\u001b[1;33m\u001b[0m\u001b[1;33m\u001b[0m\u001b[0m\n\u001b[0m\u001b[0;32m      5\u001b[0m \u001b[0mtheta_RR\u001b[0m\u001b[1;33m=\u001b[0m\u001b[0mSGD_RR\u001b[0m\u001b[1;33m(\u001b[0m\u001b[0mtheta_init\u001b[0m\u001b[1;33m=\u001b[0m\u001b[0mnp\u001b[0m\u001b[1;33m.\u001b[0m\u001b[0mrandom\u001b[0m\u001b[1;33m.\u001b[0m\u001b[0muniform\u001b[0m\u001b[1;33m(\u001b[0m\u001b[0mlow\u001b[0m\u001b[1;33m=\u001b[0m\u001b[1;33m-\u001b[0m\u001b[1;36m5\u001b[0m\u001b[1;33m,\u001b[0m \u001b[0mhigh\u001b[0m\u001b[1;33m=\u001b[0m\u001b[1;36m5\u001b[0m\u001b[1;33m,\u001b[0m \u001b[0msize\u001b[0m\u001b[1;33m=\u001b[0m\u001b[1;36m20\u001b[0m\u001b[1;33m)\u001b[0m\u001b[1;33m,\u001b[0m \u001b[0mlearn_rate\u001b[0m\u001b[1;33m=\u001b[0m\u001b[1;36m0.01\u001b[0m\u001b[1;33m,\u001b[0m \u001b[0mn_iter\u001b[0m\u001b[1;33m=\u001b[0m\u001b[1;36m512\u001b[0m\u001b[1;33m,\u001b[0m \u001b[0mA\u001b[0m\u001b[1;33m=\u001b[0m\u001b[0mA\u001b[0m\u001b[1;33m,\u001b[0m \u001b[0mb\u001b[0m\u001b[1;33m=\u001b[0m\u001b[0mb\u001b[0m\u001b[1;33m,\u001b[0m \u001b[0mechantillon\u001b[0m\u001b[1;33m=\u001b[0m\u001b[0mechantillon_x\u001b[0m\u001b[1;33m,\u001b[0m \u001b[0ml\u001b[0m\u001b[1;33m=\u001b[0m\u001b[1;36m4\u001b[0m\u001b[1;33m)\u001b[0m\u001b[1;33m\u001b[0m\u001b[1;33m\u001b[0m\u001b[0m\n\u001b[0;32m      6\u001b[0m \u001b[0mtheta_SS\u001b[0m\u001b[1;33m=\u001b[0m\u001b[0mSGD_SS\u001b[0m\u001b[1;33m(\u001b[0m\u001b[0mtheta_init\u001b[0m\u001b[1;33m=\u001b[0m\u001b[0mnp\u001b[0m\u001b[1;33m.\u001b[0m\u001b[0mrandom\u001b[0m\u001b[1;33m.\u001b[0m\u001b[0muniform\u001b[0m\u001b[1;33m(\u001b[0m\u001b[0mlow\u001b[0m\u001b[1;33m=\u001b[0m\u001b[1;33m-\u001b[0m\u001b[1;36m5\u001b[0m\u001b[1;33m,\u001b[0m \u001b[0mhigh\u001b[0m\u001b[1;33m=\u001b[0m\u001b[1;36m5\u001b[0m\u001b[1;33m,\u001b[0m \u001b[0msize\u001b[0m\u001b[1;33m=\u001b[0m\u001b[1;36m20\u001b[0m\u001b[1;33m)\u001b[0m\u001b[1;33m,\u001b[0m \u001b[0mlearn_rate\u001b[0m\u001b[1;33m=\u001b[0m\u001b[1;36m0.01\u001b[0m\u001b[1;33m,\u001b[0m \u001b[0mn_iter\u001b[0m\u001b[1;33m=\u001b[0m\u001b[1;36m512\u001b[0m\u001b[1;33m,\u001b[0m \u001b[0mA\u001b[0m\u001b[1;33m=\u001b[0m\u001b[0mA\u001b[0m\u001b[1;33m,\u001b[0m \u001b[0mb\u001b[0m\u001b[1;33m=\u001b[0m\u001b[0mb\u001b[0m\u001b[1;33m,\u001b[0m \u001b[0mechantillon\u001b[0m\u001b[1;33m=\u001b[0m\u001b[0mechantillon_x\u001b[0m\u001b[1;33m,\u001b[0m \u001b[0ml\u001b[0m\u001b[1;33m=\u001b[0m\u001b[1;36m4\u001b[0m\u001b[1;33m)\u001b[0m\u001b[1;33m\u001b[0m\u001b[1;33m\u001b[0m\u001b[0m\n",
      "\u001b[1;32mc:\\Users\\yanis\\OneDrive\\Documents\\Monte Carlo\\Projet-Monte-Carlo\\src\\sgd.py\u001b[0m in \u001b[0;36mSGD_SUMO\u001b[1;34m(theta_init, learn_rate, n_iter, A, b, echantillon, l)\u001b[0m\n\u001b[0;32m    102\u001b[0m \u001b[1;33m\u001b[0m\u001b[0m\n\u001b[0;32m    103\u001b[0m \u001b[1;32mdef\u001b[0m \u001b[0mSGD_SUMO\u001b[0m\u001b[1;33m(\u001b[0m\u001b[0mtheta_init\u001b[0m\u001b[1;33m,\u001b[0m \u001b[0mlearn_rate\u001b[0m\u001b[1;33m,\u001b[0m \u001b[0mn_iter\u001b[0m\u001b[1;33m,\u001b[0m \u001b[0mA\u001b[0m\u001b[1;33m,\u001b[0m \u001b[0mb\u001b[0m\u001b[1;33m,\u001b[0m \u001b[0mechantillon\u001b[0m\u001b[1;33m,\u001b[0m \u001b[0ml\u001b[0m\u001b[1;33m=\u001b[0m\u001b[1;36m0\u001b[0m\u001b[1;33m)\u001b[0m\u001b[1;33m:\u001b[0m\u001b[1;33m\u001b[0m\u001b[1;33m\u001b[0m\u001b[0m\n\u001b[1;32m--> 104\u001b[1;33m     \"\"\"Descente de gradient stochastique avec estimateur SUMO du gradient pour estimation de theta\n\u001b[0m\u001b[0;32m    105\u001b[0m \u001b[1;33m\u001b[0m\u001b[0m\n\u001b[0;32m    106\u001b[0m     \u001b[0mArgs\u001b[0m\u001b[1;33m:\u001b[0m\u001b[1;33m\u001b[0m\u001b[1;33m\u001b[0m\u001b[0m\n",
      "\u001b[1;32mc:\\Users\\yanis\\OneDrive\\Documents\\Monte Carlo\\Projet-Monte-Carlo\\src\\estimators2.py\u001b[0m in \u001b[0;36mestimateur_SUMO_gradientlogvraisemblance\u001b[1;34m(x, theta, A, b, r, k_max, l)\u001b[0m\n\u001b[0;32m    224\u001b[0m     \"\"\"Estimateur IWAE du gradient de la log-vraisemblance\n\u001b[0;32m    225\u001b[0m \u001b[1;33m\u001b[0m\u001b[0m\n\u001b[1;32m--> 226\u001b[1;33m     \u001b[0mArgs\u001b[0m\u001b[1;33m:\u001b[0m\u001b[1;33m\u001b[0m\u001b[1;33m\u001b[0m\u001b[0m\n\u001b[0m\u001b[0;32m    227\u001b[0m         \u001b[0mk\u001b[0m \u001b[1;33m(\u001b[0m\u001b[0mint\u001b[0m\u001b[1;33m)\u001b[0m\u001b[1;33m:\u001b[0m \u001b[0mnombre\u001b[0m \u001b[0mde\u001b[0m \u001b[0mvariables\u001b[0m \u001b[0mZ_i\u001b[0m \u001b[0mtirées\u001b[0m \u001b[0msous\u001b[0m \u001b[0mq\u001b[0m\u001b[1;33m(\u001b[0m\u001b[1;33m.\u001b[0m\u001b[1;33m|\u001b[0m\u001b[0mx\u001b[0m\u001b[1;33m)\u001b[0m\u001b[1;33m\u001b[0m\u001b[1;33m\u001b[0m\u001b[0m\n\u001b[0;32m    228\u001b[0m         \u001b[0mtheta\u001b[0m \u001b[1;33m(\u001b[0m\u001b[0mnp\u001b[0m\u001b[1;33m.\u001b[0m\u001b[0marray\u001b[0m\u001b[1;33m)\u001b[0m\u001b[1;33m:\u001b[0m \u001b[0mparamètre\u001b[0m \u001b[0md\u001b[0m\u001b[0;31m'\u001b[0m\u001b[0mintérêt\u001b[0m\u001b[1;33m\u001b[0m\u001b[1;33m\u001b[0m\u001b[0m\n",
      "\u001b[1;32mc:\\Users\\yanis\\OneDrive\\Documents\\Monte Carlo\\Projet-Monte-Carlo\\src\\estimators2.py\u001b[0m in \u001b[0;36mimportance_sampling_gradientlogvraisemblance\u001b[1;34m(k, theta, A, b, x, return_array_w_z)\u001b[0m\n\u001b[0;32m    180\u001b[0m \u001b[1;33m\u001b[0m\u001b[0m\n\u001b[0;32m    181\u001b[0m             \u001b[0marray_w\u001b[0m\u001b[1;33m=\u001b[0m\u001b[0mnp\u001b[0m\u001b[1;33m.\u001b[0m\u001b[0mappend\u001b[0m\u001b[1;33m(\u001b[0m\u001b[0marray_w\u001b[0m\u001b[1;33m,\u001b[0m \u001b[0mw_i\u001b[0m\u001b[1;33m)\u001b[0m\u001b[1;33m\u001b[0m\u001b[1;33m\u001b[0m\u001b[0m\n\u001b[1;32m--> 182\u001b[1;33m \u001b[1;33m\u001b[0m\u001b[0m\n\u001b[0m\u001b[0;32m    183\u001b[0m         \u001b[0marray_w\u001b[0m\u001b[1;33m=\u001b[0m\u001b[0mnp\u001b[0m\u001b[1;33m.\u001b[0m\u001b[0munique\u001b[0m\u001b[1;33m(\u001b[0m\u001b[0marray_w\u001b[0m\u001b[1;33m)\u001b[0m\u001b[1;33m\u001b[0m\u001b[1;33m\u001b[0m\u001b[0m\n\u001b[0;32m    184\u001b[0m \u001b[1;33m\u001b[0m\u001b[0m\n",
      "\u001b[1;32mc:\\Users\\yanis\\OneDrive\\Documents\\Monte Carlo\\Projet-Monte-Carlo\\src\\gaussian_simulation.py\u001b[0m in \u001b[0;36msimulate_gaussian_vector\u001b[1;34m(mu, sigma)\u001b[0m\n\u001b[0;32m      8\u001b[0m         \u001b[0mmu\u001b[0m \u001b[1;33m(\u001b[0m\u001b[0mnp\u001b[0m\u001b[1;33m.\u001b[0m\u001b[0marray\u001b[0m\u001b[1;33m)\u001b[0m\u001b[1;33m:\u001b[0m \u001b[0mvecteur\u001b[0m \u001b[0mde\u001b[0m \u001b[0mmoyenne\u001b[0m\u001b[1;33m\u001b[0m\u001b[1;33m\u001b[0m\u001b[0m\n\u001b[0;32m      9\u001b[0m         \u001b[0msigma\u001b[0m \u001b[1;33m(\u001b[0m\u001b[0mnp\u001b[0m\u001b[1;33m.\u001b[0m\u001b[0marray\u001b[0m\u001b[1;33m)\u001b[0m\u001b[1;33m:\u001b[0m \u001b[0mmatrice\u001b[0m \u001b[0mde\u001b[0m \u001b[0mvariances\u001b[0m\u001b[1;33m-\u001b[0m\u001b[0mcovariances\u001b[0m\u001b[1;33m\u001b[0m\u001b[1;33m\u001b[0m\u001b[0m\n\u001b[1;32m---> 10\u001b[1;33m \u001b[1;33m\u001b[0m\u001b[0m\n\u001b[0m\u001b[0;32m     11\u001b[0m     \u001b[0mReturns\u001b[0m\u001b[1;33m:\u001b[0m\u001b[1;33m\u001b[0m\u001b[1;33m\u001b[0m\u001b[0m\n\u001b[0;32m     12\u001b[0m         \u001b[0mnp\u001b[0m\u001b[1;33m.\u001b[0m\u001b[0marray\u001b[0m\u001b[1;33m:\u001b[0m \u001b[0mvecteur\u001b[0m \u001b[0mgaussien\u001b[0m\u001b[1;33m\u001b[0m\u001b[1;33m\u001b[0m\u001b[0m\n",
      "\u001b[1;31mKeyboardInterrupt\u001b[0m: "
     ]
    }
   ],
   "source": [
    "np.random.seed(123)\n",
    "theta_SGD=SGD(theta_init=np.random.uniform(low=-5, high=5, size=20), learn_rate=0.01, n_iter=512, echantillon=echantillon_x)\n",
    "theta_iawe=SGD_IAWE(theta_init=np.random.uniform(low=-5, high=5, size=20), learn_rate=0.01, n_iter=512, A=A, b=b, echantillon=echantillon_x, k=6*2**4)\n",
    "theta_SUMO=SGD_SUMO(theta_init=np.random.uniform(low=-5, high=5, size=20), learn_rate=0.01, n_iter=512, A=A, b=b, echantillon=echantillon_x, l=94)\n",
    "theta_RR=SGD_RR(theta_init=np.random.uniform(low=-5, high=5, size=20), learn_rate=0.01, n_iter=512, A=A, b=b, echantillon=echantillon_x, l=4)\n",
    "theta_SS=SGD_SS(theta_init=np.random.uniform(low=-5, high=5, size=20), learn_rate=0.01, n_iter=512, A=A, b=b, echantillon=echantillon_x, l=4)\n",
    "\n",
    "print(\"Vraie valeur de theta: {}\".format(np.around(theta, 2)))\n",
    "print(\"Estimation de theta par descente de gradient stochastique usuelle: {}\".format(np.around(theta_SGD, 2)))\n",
    "print(\"Estimation de theta par SGD IWAE: {}\".format(np.around(theta_iawe, 2)))\n",
    "print(\"Estimation de theta par SGD SUMO: {}\".format(np.around(theta_SUMO, 2)))\n",
    "print(\"Estimation de theta par SGD RR: {}\".format(np.around(theta_RR, 2)))\n",
    "print(\"Estimation de theta par SGD SS: {}\".format(np.around(theta_SS, 2)))"
   ]
  },
  {
   "attachments": {},
   "cell_type": "markdown",
   "metadata": {},
   "source": [
    "# 1ère procédure de Monte Carlo: comparaison des cinq estimateurs du gradient de la log-vraisemblance pour la SGD"
   ]
  },
  {
   "attachments": {},
   "cell_type": "markdown",
   "metadata": {},
   "source": [
    "On fixe les paramètres computationnels des estimateurs IWAE, SUMO, ML-SS et ML-RR de sorte que leur coût computationnel espéré soit minimal.\n",
    "\n",
    "La procédure de Monte Carlo utilisée est la suivante:\n",
    "\n",
    "Pour m allant de 1 à M:\n",
    "* Générer $(z_1, ..., z_n)_m \\sim p_{\\theta}(z)$\n",
    "* Générer $(x_1, ..., x_n)_m \\sim p_{\\theta}(x|z)$\n",
    "* Calculer $\\widehat{\\theta}_m^j$: estimateur de $\\theta$ calculé par descente de gradient stochastique, selon l'estimateur $j$ du gradient considéré.\n",
    "\n",
    "Fin pour\n",
    "\n",
    "Retourner $Biais_{M,j}$, $Var_{M,j}$ pour chaque estimateur $j$ considéré."
   ]
  },
  {
   "cell_type": "code",
   "execution_count": 14,
   "metadata": {},
   "outputs": [],
   "source": [
    "def procedure_MC_theta(M, n=1000, mu_z=theta, sigma_z=np.identity(20),sigma_x=np.identity(20)):\n",
    "\n",
    "    estimations_SGD_M=np.array([])\n",
    "    estimations_IWAE_M=np.array([])\n",
    "    estimations_SUMO_M=np.array([])\n",
    "    estimations_SS_M=np.array([])\n",
    "    estimations_RR_M=np.array([])\n",
    "\n",
    "    m=1\n",
    "    while m<=M:\n",
    "        echantillon_x=generer_nech_gaussien_x_sachant_z(n=n, mu_z=mu_z, sigma_z=sigma_z,sigma_x=sigma_x)\n",
    "        theta_SGD=SGD(theta_init=np.array([0]*20), learn_rate=0.001, echantillon=echantillon_x, n_iter=100)\n",
    "        theta_IAWE=SGD_IAWE(theta_init=np.array([0]*20), learn_rate=0.001, n_iter=100, A=A, b=b, echantillon=echantillon_x, k=6)\n",
    "        theta_SUMO=SGD_SUMO(theta_init=np.array([0]*20), learn_rate=0.001, n_iter=100, A=A, b=b, echantillon=echantillon_x, l=0)\n",
    "        theta_RR=SGD_RR(theta_init=np.array([0]*20), learn_rate=0.001, n_iter=100, A=A, b=b, echantillon=echantillon_x, l=0)\n",
    "        theta_SS=SGD_SS(theta_init=np.array([0]*20), learn_rate=0.001, n_iter=100, A=A, b=b, echantillon=echantillon_x, l=0)\n",
    "\n",
    "        if m==1:\n",
    "            estimations_SGD_M=np.append(estimations_SGD_M, theta_SGD)\n",
    "            estimations_IWAE_M= np.append(estimations_IWAE_M, theta_IAWE)\n",
    "            estimations_SUMO_M=np.append(estimations_SUMO_M, theta_SUMO)\n",
    "            estimations_RR_M=np.append(estimations_RR_M, theta_RR)\n",
    "            estimations_SS_M=np.append(estimations_SS_M, theta_SS)\n",
    "                \n",
    "        else:\n",
    "            estimations_SGD_M=np.vstack((estimations_SGD_M, theta_SGD))\n",
    "            estimations_IWAE_M= np.vstack((estimations_IWAE_M, theta_IAWE))\n",
    "            estimations_SUMO_M=np.vstack((estimations_SUMO_M, theta_SUMO))\n",
    "            estimations_RR_M=np.vstack((estimations_RR_M, theta_RR))\n",
    "            estimations_SS_M=np.vstack((estimations_SS_M, theta_SS))\n",
    "        m+=1\n",
    "\n",
    "    biais_SGD_M=np.mean(estimations_SGD_M, axis=0)-theta\n",
    "    biais_IWAE_M=np.mean(estimations_IWAE_M, axis=0)-theta\n",
    "    biais_IWAE_M=np.mean(estimations_IWAE_M, axis=0)-theta\n",
    "    biais_SUMO_M=np.mean(estimations_SUMO_M, axis=0)-theta\n",
    "    biais_SS_M=np.mean(estimations_SS_M, axis=0)-theta\n",
    "    biais_RR_M=np.mean(estimations_RR_M, axis=0)-theta\n",
    "\n",
    "    norm_biais_SGD_M=norm(biais_SGD_M)\n",
    "    norm_biais_IWAE_M=norm(biais_IWAE_M)\n",
    "    norm_biais_SUMO_M=norm(biais_SUMO_M)\n",
    "    norm_biais_SS_M=norm(biais_SS_M)\n",
    "    norm_biais_RR_M=norm(biais_RR_M)\n",
    "\n",
    "    var_SGD_M=np.mean(norm(estimations_SGD_M-np.mean(estimations_IWAE_M, axis=0), axis=1)**2)\n",
    "    var_IWAE_M=np.mean(norm(estimations_IWAE_M-np.mean(estimations_IWAE_M, axis=0), axis=1)**2)\n",
    "    var_SUMO_M=np.mean(norm(estimations_SUMO_M-np.mean(estimations_SUMO_M, axis=0), axis=1)**2)\n",
    "    var_SS_M=np.mean(norm(estimations_SS_M-np.mean(estimations_SS_M, axis=0), axis=1)**2)\n",
    "    var_RR_M=np.mean(norm(estimations_RR_M-np.mean(estimations_RR_M, axis=0), axis=1)**2)\n",
    "\n",
    "    return norm_biais_SGD_M, norm_biais_IWAE_M, norm_biais_SUMO_M, norm_biais_SS_M, norm_biais_RR_M, var_SGD_M, var_IWAE_M, var_SUMO_M, var_SS_M, var_RR_M"
   ]
  },
  {
   "cell_type": "code",
   "execution_count": 15,
   "metadata": {},
   "outputs": [],
   "source": [
    "np.random.seed(123)\n",
    "\n",
    "norm_biais_SGD_M, norm_biais_IWAE_M, norm_biais_SUMO_M, norm_biais_SS_M, norm_biais_RR_M, var_SGD_M, var_IWAE_M, var_SUMO_M, var_SS_M, var_RR_M=procedure_MC_theta(M=1000, n=1000,\n",
    "                                                                                                                                                                                        mu_z=theta,\n",
    "                                                                                                                                                                                        sigma_z=np.identity(20),\n",
    "                                                                                                                                                                                        sigma_x=np.identity(20))"
   ]
  },
  {
   "cell_type": "code",
   "execution_count": 16,
   "metadata": {},
   "outputs": [
    {
     "name": "stdout",
     "output_type": "stream",
     "text": [
      "Biais au carré de l'estimateur de theta par SGD usuelle: 20.3\n",
      "Biais au carré de l'estimateur de theta par SGD IWAE: 35.79\n",
      "Biais au carré de l'estimateur de theta par SGD SUMO: 40.0\n",
      "Biais au carré de l'estimateur de theta par SGD ML-SS: nan\n",
      "Biais au carré de l'estimateur de theta par SGD ML-RR: nan\n",
      "Variance de l'estimateur de theta par SGD usuelle: 2.2\n",
      "Variance de l'estimateur de theta par SGD IWAE: 0.0\n",
      "Variance de l'estimateur de theta par SGD SUMO: 0.01\n",
      "Variance de l'estimateur de theta par SGD ML-SS: nan\n",
      "Variance de l'estimateur de theta par SGD ML-RR: nan\n"
     ]
    }
   ],
   "source": [
    "print(\"Biais au carré de l'estimateur de theta par SGD usuelle: {}\".format(round(norm_biais_SGD_M**2,2)))\n",
    "print(\"Biais au carré de l'estimateur de theta par SGD IWAE: {}\".format(round(norm_biais_IWAE_M**2,2)))\n",
    "print(\"Biais au carré de l'estimateur de theta par SGD SUMO: {}\".format(round(norm_biais_SUMO_M**2,2)))\n",
    "print(\"Biais au carré de l'estimateur de theta par SGD ML-SS: {}\".format(round(norm_biais_SS_M**2,2)))\n",
    "print(\"Biais au carré de l'estimateur de theta par SGD ML-RR: {}\".format(round(norm_biais_RR_M**2,2)))\n",
    "\n",
    "print(\"Variance de l'estimateur de theta par SGD usuelle: {}\".format(round(var_SGD_M,2)))\n",
    "print(\"Variance de l'estimateur de theta par SGD IWAE: {}\".format(round(var_IWAE_M,2)))\n",
    "print(\"Variance de l'estimateur de theta par SGD SUMO: {}\".format(round(var_SUMO_M,2)))\n",
    "print(\"Variance de l'estimateur de theta par SGD ML-SS: {}\".format(round(var_SS_M,2)))\n",
    "print(\"Variance de l'estimateur de theta par SGD ML-RR: {}\".format(round(var_RR_M,2)))"
   ]
  },
  {
   "attachments": {},
   "cell_type": "markdown",
   "metadata": {},
   "source": [
    "# 2e procédure de Monte Carlo: comparaison des estimateurs du gradient paramétrés par un paramètre de complexité computationnelle"
   ]
  },
  {
   "attachments": {},
   "cell_type": "markdown",
   "metadata": {},
   "source": [
    "Comme l'estimateur de $\\theta$  par SDG usuelle ne présente pas de paramètre de coût computationnel $k$ ou $l$, nous comparons uniqement les performances de IWAE, SUMO, ML-SS et ML-RR entre-eux, en fonction du coût computationnel espéré. Pour ce faire, nous répliquons la procédure de Monte-Carlo présentée dans la partie traitant de l'estimation de la log-vraisemblance et de son gradient."
   ]
  },
  {
   "cell_type": "code",
   "execution_count": 17,
   "metadata": {},
   "outputs": [],
   "source": [
    "def procedure_MC_theta(M, L, theta, A, b, n):\n",
    "    biais_IWAE_M={}\n",
    "    biais_SUMO_M={}\n",
    "    biais_SS_M={}\n",
    "    biais_RR_M={}\n",
    "\n",
    "    var_IWAE_M={}\n",
    "    var_SUMO_M={}\n",
    "    var_SS_M={}\n",
    "    var_RR_M={}\n",
    "\n",
    "    l=0\n",
    "    while l<=L:\n",
    "        m=1\n",
    "        estimations_IWAE_M_l=np.array([])\n",
    "        estimations_SUMO_M_l=np.array([])\n",
    "        estimations_SS_M_l=np.array([])\n",
    "        estimations_RR_M_l=np.array([])\n",
    "\n",
    "\n",
    "        while m<=M:\n",
    "            echantillon_x=generer_nech_gaussien_x_sachant_z(n=n, mu_z=theta, sigma_z=np.identity(20),sigma_x=np.identity(20))\n",
    "\n",
    "            theta_IAWE=SGD_IAWE(theta_init=np.array([0]*20), learn_rate=0.001, n_iter=100, A=A, b=b, echantillon=echantillon_x, k=6*2**l)\n",
    "            theta_SUMO=SGD_SUMO(theta_init=np.array([0]*20), learn_rate=0.001, n_iter=100, A=A, b=b, echantillon=echantillon_x, l=l*38)\n",
    "            theta_RR=SGD_RR(theta_init=np.array([0]*20), learn_rate=0.001, n_iter=100, A=A, b=b, echantillon=echantillon_x, l=l)\n",
    "            theta_SS=SGD_SS(theta_init=np.array([0]*20), learn_rate=0.001, n_iter=100, A=A, b=b, echantillon=echantillon_x, l=l)\n",
    "\n",
    "            if m==1:\n",
    "                estimations_IWAE_M_l= np.append(estimations_IWAE_M_l, theta_IAWE)\n",
    "                estimations_SUMO_M_l=np.append(estimations_SUMO_M_l, theta_SUMO)\n",
    "                estimations_RR_M_l=np.append(estimations_RR_M_l, theta_RR)\n",
    "                estimations_SS_M_l=np.append(estimations_SS_M_l, theta_SS)\n",
    "            \n",
    "            else:\n",
    "                estimations_IWAE_M_l= np.vstack((estimations_IWAE_M_l, theta_IAWE))\n",
    "                estimations_SUMO_M_l=np.vstack((estimations_SUMO_M_l, theta_SUMO))\n",
    "                estimations_RR_M_l=np.vstack((estimations_RR_M_l, theta_RR))\n",
    "                estimations_SS_M_l=np.vstack((estimations_SS_M_l, theta_SS))\n",
    "            m+=1\n",
    "\n",
    "        biais_IWAE_M_l=np.mean(estimations_IWAE_M_l, axis=0)-theta\n",
    "        biais_SUMO_M_l=np.mean(estimations_SUMO_M_l, axis=0)-theta\n",
    "        biais_SS_M_l=np.mean(estimations_SS_M_l, axis=0)-theta\n",
    "        biais_RR_M_l=np.mean(estimations_RR_M_l, axis=0)-theta\n",
    "\n",
    "        squared_biais_IWAE_M_l=norm(biais_IWAE_M_l)**2\n",
    "        squared_biais_SUMO_M_l=norm(biais_SUMO_M_l)**2\n",
    "        squared_biais_SS_M_l=norm(biais_SS_M_l)**2\n",
    "        squared_biais_RR_M_l=norm(biais_RR_M_l)**2\n",
    "\n",
    "        var_IWAE_M_l=np.mean(norm(estimations_IWAE_M_l-np.mean(estimations_IWAE_M_l, axis=0), axis=1)**2)\n",
    "        var_SUMO_M_l=np.mean(norm(estimations_SUMO_M_l-np.mean(estimations_SUMO_M_l, axis=0), axis=1)**2)\n",
    "        var_SS_M_l=np.mean(norm(estimations_SS_M_l-np.mean(estimations_SS_M_l, axis=0), axis=1)**2)\n",
    "        var_RR_M_l=np.mean(norm(estimations_RR_M_l-np.mean(estimations_RR_M_l, axis=0), axis=1)**2)\n",
    "        \n",
    "        biais_IWAE_M[l]=squared_biais_IWAE_M_l\n",
    "        biais_SUMO_M[l]=squared_biais_SUMO_M_l\n",
    "        biais_SS_M[l]=squared_biais_SS_M_l\n",
    "        biais_RR_M[l]=squared_biais_RR_M_l\n",
    "        \n",
    "        var_IWAE_M[l]=var_IWAE_M_l\n",
    "        var_SUMO_M[l]=var_SUMO_M_l\n",
    "        var_SS_M[l]=var_SS_M_l\n",
    "        var_RR_M[l]=var_RR_M_l\n",
    "\n",
    "        l+=1\n",
    "\n",
    "    return biais_IWAE_M, biais_SUMO_M, biais_SS_M, biais_RR_M, var_SGD_M,var_IWAE_M, var_SUMO_M, var_SS_M, var_RR_M"
   ]
  },
  {
   "cell_type": "code",
   "execution_count": 18,
   "metadata": {},
   "outputs": [
    {
     "ename": "KeyboardInterrupt",
     "evalue": "",
     "output_type": "error",
     "traceback": [
      "\u001b[1;31m---------------------------------------------------------------------------\u001b[0m",
      "\u001b[1;31mKeyboardInterrupt\u001b[0m                         Traceback (most recent call last)",
      "\u001b[1;32m~\\AppData\\Local\\Temp\\ipykernel_217724\\2188081543.py\u001b[0m in \u001b[0;36m<module>\u001b[1;34m\u001b[0m\n\u001b[0;32m      1\u001b[0m \u001b[0mnp\u001b[0m\u001b[1;33m.\u001b[0m\u001b[0mrandom\u001b[0m\u001b[1;33m.\u001b[0m\u001b[0mseed\u001b[0m\u001b[1;33m(\u001b[0m\u001b[1;36m123\u001b[0m\u001b[1;33m)\u001b[0m\u001b[1;33m\u001b[0m\u001b[1;33m\u001b[0m\u001b[0m\n\u001b[0;32m      2\u001b[0m \u001b[1;33m\u001b[0m\u001b[0m\n\u001b[1;32m----> 3\u001b[1;33m biais_SGD_M_theta, biais_IWAE_M_theta, biais_SUMO_M_theta, biais_SS_M_theta, biais_RR_M_theta, var_SGD_M_theta, var_IWAE_M_theta, var_SUMO_M_theta, var_SS_M_theta, var_RR_M_theta = procedure_MC_theta(M=1000, \n\u001b[0m\u001b[0;32m      4\u001b[0m                                                                                                                                                                                                         \u001b[0mL\u001b[0m\u001b[1;33m=\u001b[0m\u001b[1;36m6\u001b[0m\u001b[1;33m,\u001b[0m\u001b[1;33m\u001b[0m\u001b[1;33m\u001b[0m\u001b[0m\n\u001b[0;32m      5\u001b[0m                                                                                                                                                                                                         \u001b[0mtheta\u001b[0m\u001b[1;33m=\u001b[0m\u001b[0mtheta\u001b[0m\u001b[1;33m,\u001b[0m\u001b[1;33m\u001b[0m\u001b[1;33m\u001b[0m\u001b[0m\n",
      "\u001b[1;32m~\\AppData\\Local\\Temp\\ipykernel_217724\\1486953070.py\u001b[0m in \u001b[0;36mprocedure_MC_theta\u001b[1;34m(M, L, theta, A, b, n)\u001b[0m\n\u001b[0;32m     25\u001b[0m             \u001b[0mtheta_SUMO\u001b[0m\u001b[1;33m=\u001b[0m\u001b[0mSGD_SUMO\u001b[0m\u001b[1;33m(\u001b[0m\u001b[0mtheta_init\u001b[0m\u001b[1;33m=\u001b[0m\u001b[0mnp\u001b[0m\u001b[1;33m.\u001b[0m\u001b[0marray\u001b[0m\u001b[1;33m(\u001b[0m\u001b[1;33m[\u001b[0m\u001b[1;36m0\u001b[0m\u001b[1;33m]\u001b[0m\u001b[1;33m*\u001b[0m\u001b[1;36m20\u001b[0m\u001b[1;33m)\u001b[0m\u001b[1;33m,\u001b[0m \u001b[0mlearn_rate\u001b[0m\u001b[1;33m=\u001b[0m\u001b[1;36m0.001\u001b[0m\u001b[1;33m,\u001b[0m \u001b[0mn_iter\u001b[0m\u001b[1;33m=\u001b[0m\u001b[1;36m100\u001b[0m\u001b[1;33m,\u001b[0m \u001b[0mA\u001b[0m\u001b[1;33m=\u001b[0m\u001b[0mA\u001b[0m\u001b[1;33m,\u001b[0m \u001b[0mb\u001b[0m\u001b[1;33m=\u001b[0m\u001b[0mb\u001b[0m\u001b[1;33m,\u001b[0m \u001b[0mechantillon\u001b[0m\u001b[1;33m=\u001b[0m\u001b[0mechantillon_x\u001b[0m\u001b[1;33m,\u001b[0m \u001b[0ml\u001b[0m\u001b[1;33m=\u001b[0m\u001b[0ml\u001b[0m\u001b[1;33m*\u001b[0m\u001b[1;36m38\u001b[0m\u001b[1;33m)\u001b[0m\u001b[1;33m\u001b[0m\u001b[1;33m\u001b[0m\u001b[0m\n\u001b[0;32m     26\u001b[0m             \u001b[0mtheta_RR\u001b[0m\u001b[1;33m=\u001b[0m\u001b[0mSGD_RR\u001b[0m\u001b[1;33m(\u001b[0m\u001b[0mtheta_init\u001b[0m\u001b[1;33m=\u001b[0m\u001b[0mnp\u001b[0m\u001b[1;33m.\u001b[0m\u001b[0marray\u001b[0m\u001b[1;33m(\u001b[0m\u001b[1;33m[\u001b[0m\u001b[1;36m0\u001b[0m\u001b[1;33m]\u001b[0m\u001b[1;33m*\u001b[0m\u001b[1;36m20\u001b[0m\u001b[1;33m)\u001b[0m\u001b[1;33m,\u001b[0m \u001b[0mlearn_rate\u001b[0m\u001b[1;33m=\u001b[0m\u001b[1;36m0.001\u001b[0m\u001b[1;33m,\u001b[0m \u001b[0mn_iter\u001b[0m\u001b[1;33m=\u001b[0m\u001b[1;36m100\u001b[0m\u001b[1;33m,\u001b[0m \u001b[0mA\u001b[0m\u001b[1;33m=\u001b[0m\u001b[0mA\u001b[0m\u001b[1;33m,\u001b[0m \u001b[0mb\u001b[0m\u001b[1;33m=\u001b[0m\u001b[0mb\u001b[0m\u001b[1;33m,\u001b[0m \u001b[0mechantillon\u001b[0m\u001b[1;33m=\u001b[0m\u001b[0mechantillon_x\u001b[0m\u001b[1;33m,\u001b[0m \u001b[0ml\u001b[0m\u001b[1;33m=\u001b[0m\u001b[0ml\u001b[0m\u001b[1;33m)\u001b[0m\u001b[1;33m\u001b[0m\u001b[1;33m\u001b[0m\u001b[0m\n\u001b[1;32m---> 27\u001b[1;33m             \u001b[0mtheta_SS\u001b[0m\u001b[1;33m=\u001b[0m\u001b[0mSGD_SS\u001b[0m\u001b[1;33m(\u001b[0m\u001b[0mtheta_init\u001b[0m\u001b[1;33m=\u001b[0m\u001b[0mnp\u001b[0m\u001b[1;33m.\u001b[0m\u001b[0marray\u001b[0m\u001b[1;33m(\u001b[0m\u001b[1;33m[\u001b[0m\u001b[1;36m0\u001b[0m\u001b[1;33m]\u001b[0m\u001b[1;33m*\u001b[0m\u001b[1;36m20\u001b[0m\u001b[1;33m)\u001b[0m\u001b[1;33m,\u001b[0m \u001b[0mlearn_rate\u001b[0m\u001b[1;33m=\u001b[0m\u001b[1;36m0.001\u001b[0m\u001b[1;33m,\u001b[0m \u001b[0mn_iter\u001b[0m\u001b[1;33m=\u001b[0m\u001b[1;36m100\u001b[0m\u001b[1;33m,\u001b[0m \u001b[0mA\u001b[0m\u001b[1;33m=\u001b[0m\u001b[0mA\u001b[0m\u001b[1;33m,\u001b[0m \u001b[0mb\u001b[0m\u001b[1;33m=\u001b[0m\u001b[0mb\u001b[0m\u001b[1;33m,\u001b[0m \u001b[0mechantillon\u001b[0m\u001b[1;33m=\u001b[0m\u001b[0mechantillon_x\u001b[0m\u001b[1;33m,\u001b[0m \u001b[0ml\u001b[0m\u001b[1;33m=\u001b[0m\u001b[0ml\u001b[0m\u001b[1;33m)\u001b[0m\u001b[1;33m\u001b[0m\u001b[1;33m\u001b[0m\u001b[0m\n\u001b[0m\u001b[0;32m     28\u001b[0m \u001b[1;33m\u001b[0m\u001b[0m\n\u001b[0;32m     29\u001b[0m             \u001b[1;32mif\u001b[0m \u001b[0mm\u001b[0m\u001b[1;33m==\u001b[0m\u001b[1;36m1\u001b[0m\u001b[1;33m:\u001b[0m\u001b[1;33m\u001b[0m\u001b[1;33m\u001b[0m\u001b[0m\n",
      "\u001b[1;32mc:\\Users\\yanis\\OneDrive\\Documents\\Monte Carlo\\Projet-Monte-Carlo\\src\\sgd.py\u001b[0m in \u001b[0;36mSGD_SS\u001b[1;34m(theta_init, learn_rate, n_iter, A, b, echantillon, l)\u001b[0m\n\u001b[0;32m    146\u001b[0m            \u001b[0mcompteur\u001b[0m\u001b[1;33m+=\u001b[0m\u001b[1;36m1\u001b[0m\u001b[1;33m\u001b[0m\u001b[1;33m\u001b[0m\u001b[0m\n\u001b[0;32m    147\u001b[0m         \u001b[1;32melse\u001b[0m\u001b[1;33m:\u001b[0m\u001b[1;33m\u001b[0m\u001b[1;33m\u001b[0m\u001b[0m\n\u001b[1;32m--> 148\u001b[1;33m             \u001b[0mtheta\u001b[0m\u001b[1;33m=\u001b[0m\u001b[0mtheta\u001b[0m\u001b[1;33m-\u001b[0m\u001b[0mlearn_rate\u001b[0m\u001b[1;33m*\u001b[0m\u001b[0mestimateur_ML_SS_gradientlogvraisemblance\u001b[0m\u001b[1;33m(\u001b[0m\u001b[0mx\u001b[0m\u001b[1;33m=\u001b[0m\u001b[0mechantillon\u001b[0m\u001b[1;33m[\u001b[0m\u001b[0mi\u001b[0m\u001b[1;33m]\u001b[0m\u001b[1;33m,\u001b[0m \u001b[0mtheta\u001b[0m\u001b[1;33m=\u001b[0m\u001b[0mtheta\u001b[0m\u001b[1;33m,\u001b[0m \u001b[0mA\u001b[0m\u001b[1;33m=\u001b[0m\u001b[0mA\u001b[0m\u001b[1;33m,\u001b[0m \u001b[0mb\u001b[0m\u001b[1;33m=\u001b[0m\u001b[0mb\u001b[0m\u001b[1;33m,\u001b[0m \u001b[0mr\u001b[0m\u001b[1;33m=\u001b[0m\u001b[1;36m0.6\u001b[0m\u001b[1;33m,\u001b[0m \u001b[0ml\u001b[0m\u001b[1;33m=\u001b[0m\u001b[0ml\u001b[0m\u001b[1;33m)\u001b[0m\u001b[1;33m\u001b[0m\u001b[1;33m\u001b[0m\u001b[0m\n\u001b[0m\u001b[0;32m    149\u001b[0m             \u001b[0mi\u001b[0m\u001b[1;33m+=\u001b[0m\u001b[1;36m1\u001b[0m\u001b[1;33m\u001b[0m\u001b[1;33m\u001b[0m\u001b[0m\n\u001b[0;32m    150\u001b[0m             \u001b[0mcompteur\u001b[0m\u001b[1;33m+=\u001b[0m\u001b[1;36m1\u001b[0m\u001b[1;33m\u001b[0m\u001b[1;33m\u001b[0m\u001b[0m\n",
      "\u001b[1;32mc:\\Users\\yanis\\OneDrive\\Documents\\Monte Carlo\\Projet-Monte-Carlo\\src\\estimators2.py\u001b[0m in \u001b[0;36mestimateur_ML_SS_gradientlogvraisemblance\u001b[1;34m(x, theta, A, b, r, k_max, l)\u001b[0m\n\u001b[0;32m    261\u001b[0m \u001b[1;33m\u001b[0m\u001b[0m\n\u001b[0;32m    262\u001b[0m         \u001b[0mw_i_E\u001b[0m\u001b[1;33m=\u001b[0m\u001b[0mw\u001b[0m\u001b[1;33m(\u001b[0m\u001b[0mz\u001b[0m\u001b[1;33m=\u001b[0m\u001b[0mz_i_E\u001b[0m\u001b[1;33m,\u001b[0m \u001b[0mx\u001b[0m\u001b[1;33m=\u001b[0m\u001b[0mx\u001b[0m\u001b[1;33m,\u001b[0m \u001b[0mtheta\u001b[0m\u001b[1;33m=\u001b[0m\u001b[0mtheta\u001b[0m\u001b[1;33m,\u001b[0m \u001b[0mA\u001b[0m\u001b[1;33m=\u001b[0m\u001b[0mA\u001b[0m\u001b[1;33m,\u001b[0m\u001b[0mb\u001b[0m\u001b[1;33m=\u001b[0m\u001b[0mb\u001b[0m\u001b[1;33m)\u001b[0m\u001b[1;33m\u001b[0m\u001b[1;33m\u001b[0m\u001b[0m\n\u001b[1;32m--> 263\u001b[1;33m         \u001b[0mw_i_O\u001b[0m\u001b[1;33m=\u001b[0m\u001b[0mw\u001b[0m\u001b[1;33m(\u001b[0m\u001b[0mz\u001b[0m\u001b[1;33m=\u001b[0m\u001b[0mz_i_O\u001b[0m\u001b[1;33m,\u001b[0m \u001b[0mx\u001b[0m\u001b[1;33m=\u001b[0m\u001b[0mx\u001b[0m\u001b[1;33m,\u001b[0m \u001b[0mtheta\u001b[0m\u001b[1;33m=\u001b[0m\u001b[0mtheta\u001b[0m\u001b[1;33m,\u001b[0m \u001b[0mA\u001b[0m\u001b[1;33m=\u001b[0m\u001b[0mA\u001b[0m\u001b[1;33m,\u001b[0m\u001b[0mb\u001b[0m\u001b[1;33m=\u001b[0m\u001b[0mb\u001b[0m\u001b[1;33m)\u001b[0m\u001b[1;33m\u001b[0m\u001b[1;33m\u001b[0m\u001b[0m\n\u001b[0m\u001b[0;32m    264\u001b[0m \u001b[1;33m\u001b[0m\u001b[0m\n\u001b[0;32m    265\u001b[0m         \u001b[1;32mif\u001b[0m \u001b[0mi\u001b[0m\u001b[1;33m==\u001b[0m\u001b[1;36m1\u001b[0m\u001b[1;33m:\u001b[0m\u001b[1;33m\u001b[0m\u001b[1;33m\u001b[0m\u001b[0m\n",
      "\u001b[1;32mc:\\Users\\yanis\\OneDrive\\Documents\\Monte Carlo\\Projet-Monte-Carlo\\src\\densite_function.py\u001b[0m in \u001b[0;36mw\u001b[1;34m(z, x, theta, A, b)\u001b[0m\n\u001b[0;32m     26\u001b[0m \u001b[1;33m\u001b[0m\u001b[0m\n\u001b[0;32m     27\u001b[0m \u001b[1;32mdef\u001b[0m \u001b[0mw\u001b[0m\u001b[1;33m(\u001b[0m\u001b[0mz\u001b[0m\u001b[1;33m,\u001b[0m \u001b[0mx\u001b[0m\u001b[1;33m,\u001b[0m \u001b[0mtheta\u001b[0m\u001b[1;33m,\u001b[0m \u001b[0mA\u001b[0m\u001b[1;33m,\u001b[0m\u001b[0mb\u001b[0m\u001b[1;33m)\u001b[0m\u001b[1;33m:\u001b[0m\u001b[1;33m\u001b[0m\u001b[1;33m\u001b[0m\u001b[0m\n\u001b[1;32m---> 28\u001b[1;33m     \u001b[1;32mreturn\u001b[0m \u001b[0mdensite_XZ\u001b[0m\u001b[1;33m(\u001b[0m\u001b[0mx\u001b[0m\u001b[1;33m,\u001b[0m\u001b[0mz\u001b[0m\u001b[1;33m,\u001b[0m\u001b[0mtheta\u001b[0m\u001b[1;33m)\u001b[0m\u001b[1;33m/\u001b[0m\u001b[0mdensite_q\u001b[0m\u001b[1;33m(\u001b[0m\u001b[0mA\u001b[0m\u001b[1;33m,\u001b[0m \u001b[0mb\u001b[0m\u001b[1;33m,\u001b[0m \u001b[0mz\u001b[0m\u001b[1;33m,\u001b[0m \u001b[0mx\u001b[0m\u001b[1;33m)\u001b[0m\u001b[1;33m\u001b[0m\u001b[1;33m\u001b[0m\u001b[0m\n\u001b[0m\u001b[0;32m     29\u001b[0m \u001b[1;33m\u001b[0m\u001b[0m\n",
      "\u001b[1;32mc:\\Users\\yanis\\OneDrive\\Documents\\Monte Carlo\\Projet-Monte-Carlo\\src\\densite_function.py\u001b[0m in \u001b[0;36mdensite_XZ\u001b[1;34m(x, z, theta)\u001b[0m\n\u001b[0;32m     19\u001b[0m \u001b[1;33m\u001b[0m\u001b[0m\n\u001b[0;32m     20\u001b[0m \u001b[1;32mdef\u001b[0m \u001b[0mdensite_XZ\u001b[0m\u001b[1;33m(\u001b[0m\u001b[0mx\u001b[0m\u001b[1;33m,\u001b[0m\u001b[0mz\u001b[0m\u001b[1;33m,\u001b[0m\u001b[0mtheta\u001b[0m\u001b[1;33m)\u001b[0m\u001b[1;33m:\u001b[0m\u001b[1;33m\u001b[0m\u001b[1;33m\u001b[0m\u001b[0m\n\u001b[1;32m---> 21\u001b[1;33m     \u001b[1;32mreturn\u001b[0m \u001b[0mdensite_X_sachant_Z\u001b[0m\u001b[1;33m(\u001b[0m\u001b[0mx\u001b[0m\u001b[1;33m,\u001b[0m\u001b[0mz\u001b[0m\u001b[1;33m)\u001b[0m\u001b[1;33m*\u001b[0m\u001b[0mdensite_Z\u001b[0m\u001b[1;33m(\u001b[0m\u001b[0mz\u001b[0m\u001b[1;33m,\u001b[0m\u001b[0mtheta\u001b[0m\u001b[1;33m)\u001b[0m\u001b[1;33m\u001b[0m\u001b[1;33m\u001b[0m\u001b[0m\n\u001b[0m\u001b[0;32m     22\u001b[0m \u001b[1;33m\u001b[0m\u001b[0m\n\u001b[0;32m     23\u001b[0m \u001b[1;33m\u001b[0m\u001b[0m\n",
      "\u001b[1;32mc:\\Users\\yanis\\OneDrive\\Documents\\Monte Carlo\\Projet-Monte-Carlo\\src\\densite_function.py\u001b[0m in \u001b[0;36mdensite_Z\u001b[1;34m(z, theta)\u001b[0m\n\u001b[0;32m      4\u001b[0m \u001b[1;33m\u001b[0m\u001b[0m\n\u001b[0;32m      5\u001b[0m \u001b[1;32mdef\u001b[0m \u001b[0mdensite_Z\u001b[0m\u001b[1;33m(\u001b[0m\u001b[0mz\u001b[0m\u001b[1;33m,\u001b[0m \u001b[0mtheta\u001b[0m\u001b[1;33m)\u001b[0m\u001b[1;33m:\u001b[0m\u001b[1;33m\u001b[0m\u001b[1;33m\u001b[0m\u001b[0m\n\u001b[1;32m----> 6\u001b[1;33m     \u001b[1;32mreturn\u001b[0m \u001b[0mmultivariate_normal\u001b[0m\u001b[1;33m.\u001b[0m\u001b[0mpdf\u001b[0m\u001b[1;33m(\u001b[0m\u001b[0mz\u001b[0m\u001b[1;33m,\u001b[0m \u001b[0mmean\u001b[0m\u001b[1;33m=\u001b[0m\u001b[0mtheta\u001b[0m\u001b[1;33m,\u001b[0m \u001b[0mcov\u001b[0m\u001b[1;33m=\u001b[0m\u001b[0mnp\u001b[0m\u001b[1;33m.\u001b[0m\u001b[0midentity\u001b[0m\u001b[1;33m(\u001b[0m\u001b[1;36m20\u001b[0m\u001b[1;33m)\u001b[0m\u001b[1;33m)\u001b[0m\u001b[1;33m\u001b[0m\u001b[1;33m\u001b[0m\u001b[0m\n\u001b[0m\u001b[0;32m      7\u001b[0m \u001b[1;33m\u001b[0m\u001b[0m\n\u001b[0;32m      8\u001b[0m \u001b[1;32mdef\u001b[0m \u001b[0mdensite_X_sachant_Z\u001b[0m\u001b[1;33m(\u001b[0m\u001b[0mx\u001b[0m\u001b[1;33m,\u001b[0m \u001b[0mz\u001b[0m\u001b[1;33m)\u001b[0m\u001b[1;33m:\u001b[0m\u001b[1;33m\u001b[0m\u001b[1;33m\u001b[0m\u001b[0m\n",
      "\u001b[1;32mc:\\Users\\yanis\\anaconda3\\lib\\site-packages\\numpy\\core\\numeric.py\u001b[0m in \u001b[0;36midentity\u001b[1;34m(n, dtype, like)\u001b[0m\n\u001b[0;32m   2165\u001b[0m \u001b[1;33m\u001b[0m\u001b[0m\n\u001b[0;32m   2166\u001b[0m     \u001b[1;32mfrom\u001b[0m \u001b[0mnumpy\u001b[0m \u001b[1;32mimport\u001b[0m \u001b[0meye\u001b[0m\u001b[1;33m\u001b[0m\u001b[1;33m\u001b[0m\u001b[0m\n\u001b[1;32m-> 2167\u001b[1;33m     \u001b[1;32mreturn\u001b[0m \u001b[0meye\u001b[0m\u001b[1;33m(\u001b[0m\u001b[0mn\u001b[0m\u001b[1;33m,\u001b[0m \u001b[0mdtype\u001b[0m\u001b[1;33m=\u001b[0m\u001b[0mdtype\u001b[0m\u001b[1;33m,\u001b[0m \u001b[0mlike\u001b[0m\u001b[1;33m=\u001b[0m\u001b[0mlike\u001b[0m\u001b[1;33m)\u001b[0m\u001b[1;33m\u001b[0m\u001b[1;33m\u001b[0m\u001b[0m\n\u001b[0m\u001b[0;32m   2168\u001b[0m \u001b[1;33m\u001b[0m\u001b[0m\n\u001b[0;32m   2169\u001b[0m \u001b[1;33m\u001b[0m\u001b[0m\n",
      "\u001b[1;32mc:\\Users\\yanis\\anaconda3\\lib\\site-packages\\numpy\\lib\\twodim_base.py\u001b[0m in \u001b[0;36meye\u001b[1;34m(N, M, k, dtype, order, like)\u001b[0m\n\u001b[0;32m    212\u001b[0m     \u001b[1;32mif\u001b[0m \u001b[0mM\u001b[0m \u001b[1;32mis\u001b[0m \u001b[1;32mNone\u001b[0m\u001b[1;33m:\u001b[0m\u001b[1;33m\u001b[0m\u001b[1;33m\u001b[0m\u001b[0m\n\u001b[0;32m    213\u001b[0m         \u001b[0mM\u001b[0m \u001b[1;33m=\u001b[0m \u001b[0mN\u001b[0m\u001b[1;33m\u001b[0m\u001b[1;33m\u001b[0m\u001b[0m\n\u001b[1;32m--> 214\u001b[1;33m     \u001b[0mm\u001b[0m \u001b[1;33m=\u001b[0m \u001b[0mzeros\u001b[0m\u001b[1;33m(\u001b[0m\u001b[1;33m(\u001b[0m\u001b[0mN\u001b[0m\u001b[1;33m,\u001b[0m \u001b[0mM\u001b[0m\u001b[1;33m)\u001b[0m\u001b[1;33m,\u001b[0m \u001b[0mdtype\u001b[0m\u001b[1;33m=\u001b[0m\u001b[0mdtype\u001b[0m\u001b[1;33m,\u001b[0m \u001b[0morder\u001b[0m\u001b[1;33m=\u001b[0m\u001b[0morder\u001b[0m\u001b[1;33m)\u001b[0m\u001b[1;33m\u001b[0m\u001b[1;33m\u001b[0m\u001b[0m\n\u001b[0m\u001b[0;32m    215\u001b[0m     \u001b[1;32mif\u001b[0m \u001b[0mk\u001b[0m \u001b[1;33m>=\u001b[0m \u001b[0mM\u001b[0m\u001b[1;33m:\u001b[0m\u001b[1;33m\u001b[0m\u001b[1;33m\u001b[0m\u001b[0m\n\u001b[0;32m    216\u001b[0m         \u001b[1;32mreturn\u001b[0m \u001b[0mm\u001b[0m\u001b[1;33m\u001b[0m\u001b[1;33m\u001b[0m\u001b[0m\n",
      "\u001b[1;31mKeyboardInterrupt\u001b[0m: "
     ]
    }
   ],
   "source": [
    "np.random.seed(123)\n",
    "\n",
    "biais_SGD_M_theta, biais_IWAE_M_theta, biais_SUMO_M_theta, biais_SS_M_theta, biais_RR_M_theta, var_SGD_M_theta, var_IWAE_M_theta, var_SUMO_M_theta, var_SS_M_theta, var_RR_M_theta = procedure_MC_theta(M=1000, \n",
    "                                                                                                                                                                                                        L=6,\n",
    "                                                                                                                                                                                                        theta=theta,\n",
    "                                                                                                                                                                                                        A=A, \n",
    "                                                                                                                                                                                                        b=b,\n",
    "                                                                                                                                                                                                        n=1000) \n",
    "                                                                                                                            "
   ]
  },
  {
   "cell_type": "code",
   "execution_count": null,
   "metadata": {},
   "outputs": [
    {
     "ename": "NameError",
     "evalue": "name 'biais_SDG_M_theta' is not defined",
     "output_type": "error",
     "traceback": [
      "\u001b[1;31m---------------------------------------------------------------------------\u001b[0m",
      "\u001b[1;31mNameError\u001b[0m                                 Traceback (most recent call last)",
      "\u001b[1;32m~\\AppData\\Local\\Temp\\ipykernel_184120\\1847402988.py\u001b[0m in \u001b[0;36m<module>\u001b[1;34m\u001b[0m\n\u001b[1;32m----> 1\u001b[1;33m \u001b[0msorted_biais_SDG_M_theta\u001b[0m \u001b[1;33m=\u001b[0m \u001b[0msorted\u001b[0m\u001b[1;33m(\u001b[0m\u001b[0mbiais_SDG_M_theta\u001b[0m\u001b[1;33m.\u001b[0m\u001b[0mitems\u001b[0m\u001b[1;33m(\u001b[0m\u001b[1;33m)\u001b[0m\u001b[1;33m)\u001b[0m\u001b[1;33m\u001b[0m\u001b[1;33m\u001b[0m\u001b[0m\n\u001b[0m\u001b[0;32m      2\u001b[0m \u001b[0msorted_biais_IWAE_M_theta\u001b[0m \u001b[1;33m=\u001b[0m \u001b[0msorted\u001b[0m\u001b[1;33m(\u001b[0m\u001b[0mbiais_IWAE_M_theta\u001b[0m\u001b[1;33m.\u001b[0m\u001b[0mitems\u001b[0m\u001b[1;33m(\u001b[0m\u001b[1;33m)\u001b[0m\u001b[1;33m)\u001b[0m\u001b[1;33m\u001b[0m\u001b[1;33m\u001b[0m\u001b[0m\n\u001b[0;32m      3\u001b[0m \u001b[0msorted_biais_SS_M_gradient\u001b[0m \u001b[1;33m=\u001b[0m \u001b[0msorted\u001b[0m\u001b[1;33m(\u001b[0m\u001b[0mbiais_SS_M_theta\u001b[0m\u001b[1;33m.\u001b[0m\u001b[0mitems\u001b[0m\u001b[1;33m(\u001b[0m\u001b[1;33m)\u001b[0m\u001b[1;33m)\u001b[0m\u001b[1;33m\u001b[0m\u001b[1;33m\u001b[0m\u001b[0m\n\u001b[0;32m      4\u001b[0m \u001b[0msorted_biais_RR_M_gradient\u001b[0m \u001b[1;33m=\u001b[0m \u001b[0msorted\u001b[0m\u001b[1;33m(\u001b[0m\u001b[0mbiais_RR_M_theta\u001b[0m\u001b[1;33m.\u001b[0m\u001b[0mitems\u001b[0m\u001b[1;33m(\u001b[0m\u001b[1;33m)\u001b[0m\u001b[1;33m)\u001b[0m\u001b[1;33m\u001b[0m\u001b[1;33m\u001b[0m\u001b[0m\n\u001b[0;32m      5\u001b[0m \u001b[1;33m\u001b[0m\u001b[0m\n",
      "\u001b[1;31mNameError\u001b[0m: name 'biais_SDG_M_theta' is not defined"
     ]
    }
   ],
   "source": [
    "sorted_biais_IWAE_M_theta = sorted(biais_IWAE_M_theta.items())\n",
    "sorted_biais_SUMO_M_theta = sorted(biais_SUMO_M_theta.items())\n",
    "sorted_biais_SS_M_theta = sorted(biais_SS_M_theta.items())\n",
    "sorted_biais_RR_M_theta = sorted(biais_RR_M_theta.items())\n",
    "\n",
    "sorted_var_IWAE_M_theta = sorted(var_IWAE_M_theta.items())\n",
    "sorted_var_SUMO_M_theta = sorted(var_SUMO_M_theta.items())\n",
    "sorted_var_SS_M_theta = sorted(var_SS_M_theta.items())\n",
    "sorted_var_RR_M_theta = sorted(var_RR_M_theta.items())\n",
    "\n",
    "l, biais_IAWE_theta = zip(*sorted_biais_IWAE_M_theta)\n",
    "l, biais_SUMO_theta = zip(*sorted_biais_SUMO_M_theta)\n",
    "l, biais_SS_theta = zip(*sorted_biais_SS_M_theta)\n",
    "l, biais_RR_theta = zip(*sorted_biais_RR_M_theta)\n",
    "\n",
    "l, var_IAWE_theta = zip(*sorted_var_IWAE_M_theta) \n",
    "l, var_SUMO_theta = zip(*sorted_var_SUMO_M_theta) \n",
    "l, var_SS_theta = zip(*sorted_var_SS_M_theta) \n",
    "l, var_RR_theta = zip(*sorted_var_RR_M_theta) \n",
    "\n",
    "fig, axs = plt.subplots(2,1, figsize=(10, 10))\n",
    "\n",
    "axs[0].plot(l, biais_IAWE_theta, 'b', label=\"Biais au carré de l'estimateur IWAE\", color=\"blue\")\n",
    "axs[0].plot(l, biais_SUMO_theta, 'b', label=\"Biais au carré de l'estimateur SUMO\", color=\"red\")\n",
    "axs[0].plot(l, biais_SS_theta, 'b', label=\"Biais au carré de l'estimateur ML-SS\", color=\"orange\")\n",
    "axs[0].plot(l, biais_RR_theta, 'b', label=\"Biais au carré de l'estimateur ML-RR\", color=\"green\")\n",
    "\n",
    "axs[0].legend()\n",
    "\n",
    "fig.suptitle('Biais au carré et variance des estimateurs de theta, en fonction du coût computationel', fontsize=16)\n",
    "\n",
    "axs[1].plot(l, var_IAWE_theta, 'b', label=\"Variance de l'estimateur IAWE\", color=\"blue\")\n",
    "axs[1].plot(l, var_SUMO_theta, 'b', label=\"Variance de l'estimateur SUMO\", color=\"red\")\n",
    "axs[1].plot(l, var_SS_theta, 'b', label=\"Variance de l'estimateur ML-SS\", color=\"orange\")\n",
    "axs[1].plot(l, var_RR_theta, 'b', label=\"Variance de l'estimateur ML-RR\", color=\"green\")\n",
    "\n",
    "\n",
    "axs[1].legend()\n",
    "\n",
    "plt.yscale(\"log\")\n",
    "plt.show()"
   ]
  }
 ],
 "metadata": {
  "kernelspec": {
   "display_name": "base",
   "language": "python",
   "name": "python3"
  },
  "language_info": {
   "codemirror_mode": {
    "name": "ipython",
    "version": 3
   },
   "file_extension": ".py",
   "mimetype": "text/x-python",
   "name": "python",
   "nbconvert_exporter": "python",
   "pygments_lexer": "ipython3",
   "version": "3.9.13"
  },
  "orig_nbformat": 4
 },
 "nbformat": 4,
 "nbformat_minor": 2
}
