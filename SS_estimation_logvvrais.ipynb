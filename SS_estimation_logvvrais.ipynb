{
 "cells": [
  {
   "cell_type": "code",
   "execution_count": 12,
   "metadata": {},
   "outputs": [],
   "source": [
    "from src.densite_function import *\n",
    "from src.gaussian_simulation import *\n",
    "from src.IWAE_estimation import *\n",
    "from src.vraisemblance import *\n",
    "import numpy as np\n",
    "import matplotlib.pylab as plt\n",
    "from scipy.stats import geom"
   ]
  },
  {
   "cell_type": "code",
   "execution_count": 10,
   "metadata": {},
   "outputs": [],
   "source": [
    "np.random.seed(10)\n",
    "\n",
    "x=np.random.uniform(size=20, low=-10, high=10)\n",
    "theta=np.random.uniform(size=20, low=-10, high=10)"
   ]
  },
  {
   "cell_type": "code",
   "execution_count": 11,
   "metadata": {},
   "outputs": [],
   "source": [
    "A=np.matrix(np.identity(20))*0.5\n",
    "b=theta/2"
   ]
  },
  {
   "cell_type": "code",
   "execution_count": 26,
   "metadata": {},
   "outputs": [],
   "source": [
    "def estimateur_SS_logvraisemblance(x, theta, A, b, r):\n",
    "    K=np.random.geometric(p=0.6, size=1)[0]\n",
    "\n",
    "    z_O=np.array([])\n",
    "    z_E=np.array([])\n",
    "\n",
    "    array_w=np.array([])\n",
    "    array_w_O=np.array([])\n",
    "    array_w_E=np.array([])\n",
    "\n",
    "    i=0\n",
    "    while i<2**K:\n",
    "        z_i_O=simulate_gaussian_vector(mu=np.matmul(A,x)+b, sigma=(2/3)*np.identity(20))[0]\n",
    "        z_i_E=simulate_gaussian_vector(mu=np.matmul(A,x)+b, sigma=(2/3)*np.identity(20))[0]\n",
    "\n",
    "        w_i_E=w(z=z_i_E, x=x, theta=theta, A=A,b=b)\n",
    "        w_i_O=w(z=z_i_O, x=x, theta=theta, A=A,b=b)\n",
    "\n",
    "        \n",
    "        z_O= np.append(z_O, z_i_O)\n",
    "        z_E= np.append(z_E, z_i_E)\n",
    "\n",
    "        array_w_O=np.append(array_w_O, w_i_O)\n",
    "        array_w_E=np.append(array_w_E, w_i_E)\n",
    "        i+=1\n",
    "\n",
    "    array_z=np.union1d(z_O, z_E)\n",
    "    array_w=np.union1d(array_w_O, array_w_E)\n",
    "\n",
    "    I_0=np.mean(np.log(array_w))\n",
    "\n",
    "    IWAE_O=np.mean(np.log(array_w_O))\n",
    "    IWAE_E=np.mean(np.log(array_w_E))\n",
    "    IWAE_OUE=np.mean(np.log(array_w))\n",
    "\n",
    "    delta_K=IWAE_OUE-0.5*(IWAE_O+IWAE_E)\n",
    "\n",
    "    SS=I_0+delta_K/geom.pmf(1, p=r)\n",
    "\n",
    "    return SS"
   ]
  },
  {
   "cell_type": "code",
   "execution_count": 27,
   "metadata": {},
   "outputs": [],
   "source": [
    "SS=estimateur_SS_logvraisemblance(x=x, theta=theta, A=A, b=b, r=0.6)"
   ]
  },
  {
   "cell_type": "code",
   "execution_count": 28,
   "metadata": {},
   "outputs": [
    {
     "data": {
      "text/plain": [
       "-427.0449624347385"
      ]
     },
     "execution_count": 28,
     "metadata": {},
     "output_type": "execute_result"
    }
   ],
   "source": [
    "SS"
   ]
  },
  {
   "cell_type": "code",
   "execution_count": 29,
   "metadata": {},
   "outputs": [
    {
     "data": {
      "text/plain": [
       "-427.1362945070707"
      ]
     },
     "execution_count": 29,
     "metadata": {},
     "output_type": "execute_result"
    }
   ],
   "source": [
    "log_vraisemblance(x, theta)"
   ]
  }
 ],
 "metadata": {
  "kernelspec": {
   "display_name": "base",
   "language": "python",
   "name": "python3"
  },
  "language_info": {
   "codemirror_mode": {
    "name": "ipython",
    "version": 3
   },
   "file_extension": ".py",
   "mimetype": "text/x-python",
   "name": "python",
   "nbconvert_exporter": "python",
   "pygments_lexer": "ipython3",
   "version": "3.9.13"
  },
  "orig_nbformat": 4
 },
 "nbformat": 4,
 "nbformat_minor": 2
}
